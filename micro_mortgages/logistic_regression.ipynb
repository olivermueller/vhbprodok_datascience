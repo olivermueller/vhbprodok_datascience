{
 "cells": [
  {
   "cell_type": "markdown",
   "metadata": {},
   "source": [
    "# Micro Mortgages - Logistic Regression\n",
    "- Author: Oliver Mueller\n",
    "- Last update: 26.01.2024"
   ]
  },
  {
   "cell_type": "markdown",
   "metadata": {},
   "source": [
    "## Initialize notebook\n",
    "Load required packages. Set up workspace, e.g., set theme for plotting and initialize the random number generator."
   ]
  },
  {
   "cell_type": "code",
   "execution_count": 1,
   "metadata": {},
   "outputs": [],
   "source": [
    "import warnings\n",
    "warnings.simplefilter('ignore')\n",
    "\n",
    "import numpy as np\n",
    "import pandas as pd\n",
    "from matplotlib import pyplot as plt\n",
    "import seaborn as sns\n",
    "\n",
    "from sklearn.model_selection import train_test_split\n",
    "from sklearn.metrics import roc_curve, roc_auc_score, auc, RocCurveDisplay\n",
    "from sklearn.metrics import classification_report\n",
    "\n",
    "import statsmodels.api as sm\n",
    "import statsmodels.formula.api as smf\n"
   ]
  },
  {
   "cell_type": "code",
   "execution_count": 2,
   "metadata": {},
   "outputs": [],
   "source": [
    "plt.style.use('fivethirtyeight')"
   ]
  },
  {
   "cell_type": "markdown",
   "metadata": {},
   "source": [
    "## Problem description\n",
    "\n",
    "In India, there are about 20 million home loan (mortgage) aspirants\n",
    "working in the informal sector:\n",
    "\n",
    "- Monthly income between INR 20,000-25,000 (\\$ 325-400)\n",
    "- Typically no formal accounts and documents (e.g., tax returns, income proofs, bank statements)\n",
    "- Often use services of money lenders with interest rates between 30 and 60% per annum\n",
    "\n",
    "Providing mortgages to this group of customers requires to quickly and\n",
    "efficiently assess their creditworthiness. Due to a lack of formal\n",
    "documents and objective data, most financial institutions perform\n",
    "interview-based processes to decide about these loan requests:\n",
    "\n",
    "Strength of the current process:\n",
    "\n",
    "-   Interview-based field assessment\n",
    "\n",
    "-   Relaxation of document requirements\n",
    "\n",
    "Weaknesses of the current process:\n",
    "\n",
    "-   Costly (total transaction costs as high as 30% of loan volume)\n",
    "\n",
    "-   Subjective judgments; depends on individual skills and motivations\n",
    "\n",
    "-   Low reliability across branches and credit officers\n",
    "\n",
    "-   Risk of corruption and fraud"
   ]
  },
  {
   "cell_type": "markdown",
   "metadata": {},
   "source": [
    "## Load data\n",
    "\n",
    "Load training data from CSV file."
   ]
  },
  {
   "cell_type": "code",
   "execution_count": 3,
   "metadata": {},
   "outputs": [],
   "source": [
    "data = pd.read_csv('data/micromortgage.csv')"
   ]
  },
  {
   "cell_type": "code",
   "execution_count": 4,
   "metadata": {},
   "outputs": [
    {
     "data": {
      "text/html": [
       "<div>\n",
       "<style scoped>\n",
       "    .dataframe tbody tr th:only-of-type {\n",
       "        vertical-align: middle;\n",
       "    }\n",
       "\n",
       "    .dataframe tbody tr th {\n",
       "        vertical-align: top;\n",
       "    }\n",
       "\n",
       "    .dataframe thead th {\n",
       "        text-align: right;\n",
       "    }\n",
       "</style>\n",
       "<table border=\"1\" class=\"dataframe\">\n",
       "  <thead>\n",
       "    <tr style=\"text-align: right;\">\n",
       "      <th></th>\n",
       "      <th>ID</th>\n",
       "      <th>Decision</th>\n",
       "      <th>Build_Selfcon</th>\n",
       "      <th>Tier</th>\n",
       "      <th>Accommodation_Class</th>\n",
       "      <th>Loan_Type</th>\n",
       "      <th>Gender</th>\n",
       "      <th>Employment_Type</th>\n",
       "      <th>Doc_Proof_Inc</th>\n",
       "      <th>Marital_Status</th>\n",
       "      <th>...</th>\n",
       "      <th>LoanReq</th>\n",
       "      <th>Term</th>\n",
       "      <th>Dwnpay</th>\n",
       "      <th>BankSave</th>\n",
       "      <th>CalcEmi</th>\n",
       "      <th>IIR</th>\n",
       "      <th>IAR</th>\n",
       "      <th>FOIR</th>\n",
       "      <th>LTV</th>\n",
       "      <th>LVR</th>\n",
       "    </tr>\n",
       "  </thead>\n",
       "  <tbody>\n",
       "    <tr>\n",
       "      <th>0</th>\n",
       "      <td>FBD-E2B0-588300</td>\n",
       "      <td>1</td>\n",
       "      <td>Self Contruction</td>\n",
       "      <td>2</td>\n",
       "      <td>Non_Rented</td>\n",
       "      <td>Home_Loan</td>\n",
       "      <td>Female</td>\n",
       "      <td>Salaried</td>\n",
       "      <td>N</td>\n",
       "      <td>Married</td>\n",
       "      <td>...</td>\n",
       "      <td>780000</td>\n",
       "      <td>180</td>\n",
       "      <td>670000</td>\n",
       "      <td>0</td>\n",
       "      <td>12004.230470</td>\n",
       "      <td>34.999797</td>\n",
       "      <td>45.000114</td>\n",
       "      <td>34.999797</td>\n",
       "      <td>80.000000</td>\n",
       "      <td>54.000000</td>\n",
       "    </tr>\n",
       "    <tr>\n",
       "      <th>1</th>\n",
       "      <td>GUJ-A79X-831476</td>\n",
       "      <td>0</td>\n",
       "      <td>Self Contruction</td>\n",
       "      <td>1</td>\n",
       "      <td>Non_Rented</td>\n",
       "      <td>Home_Loan</td>\n",
       "      <td>Female</td>\n",
       "      <td>Self_Employed</td>\n",
       "      <td>N</td>\n",
       "      <td>Married</td>\n",
       "      <td>...</td>\n",
       "      <td>800000</td>\n",
       "      <td>180</td>\n",
       "      <td>470000</td>\n",
       "      <td>0</td>\n",
       "      <td>12312.030270</td>\n",
       "      <td>49.248121</td>\n",
       "      <td>75.533928</td>\n",
       "      <td>49.248121</td>\n",
       "      <td>62.992126</td>\n",
       "      <td>62.992126</td>\n",
       "    </tr>\n",
       "    <tr>\n",
       "      <th>2</th>\n",
       "      <td>SHB-947O-759226</td>\n",
       "      <td>1</td>\n",
       "      <td>Self Contruction</td>\n",
       "      <td>3</td>\n",
       "      <td>Rented</td>\n",
       "      <td>Home_Loan</td>\n",
       "      <td>Female</td>\n",
       "      <td>Salaried</td>\n",
       "      <td>N</td>\n",
       "      <td>Married</td>\n",
       "      <td>...</td>\n",
       "      <td>480000</td>\n",
       "      <td>120</td>\n",
       "      <td>120000</td>\n",
       "      <td>300000</td>\n",
       "      <td>8342.290039</td>\n",
       "      <td>41.999144</td>\n",
       "      <td>79.998946</td>\n",
       "      <td>41.999144</td>\n",
       "      <td>78.999992</td>\n",
       "      <td>80.000000</td>\n",
       "    </tr>\n",
       "    <tr>\n",
       "      <th>3</th>\n",
       "      <td>SHB-7S3I-679761</td>\n",
       "      <td>1</td>\n",
       "      <td>Self Contruction</td>\n",
       "      <td>3</td>\n",
       "      <td>Non_Rented</td>\n",
       "      <td>Home_Loan</td>\n",
       "      <td>Female</td>\n",
       "      <td>Self_Employed</td>\n",
       "      <td>N</td>\n",
       "      <td>Married</td>\n",
       "      <td>...</td>\n",
       "      <td>300000</td>\n",
       "      <td>180</td>\n",
       "      <td>95000</td>\n",
       "      <td>0</td>\n",
       "      <td>4617.009766</td>\n",
       "      <td>30.999126</td>\n",
       "      <td>84.996498</td>\n",
       "      <td>30.999126</td>\n",
       "      <td>20.000000</td>\n",
       "      <td>76.000000</td>\n",
       "    </tr>\n",
       "    <tr>\n",
       "      <th>4</th>\n",
       "      <td>VAD-BPKZ-551476</td>\n",
       "      <td>0</td>\n",
       "      <td>Self Contruction</td>\n",
       "      <td>2</td>\n",
       "      <td>Non_Rented</td>\n",
       "      <td>Home_Loan</td>\n",
       "      <td>Female</td>\n",
       "      <td>Self_Employed</td>\n",
       "      <td>N</td>\n",
       "      <td>Married</td>\n",
       "      <td>...</td>\n",
       "      <td>1000000</td>\n",
       "      <td>180</td>\n",
       "      <td>375000</td>\n",
       "      <td>0</td>\n",
       "      <td>15390.040040</td>\n",
       "      <td>45.000117</td>\n",
       "      <td>57.999020</td>\n",
       "      <td>45.000117</td>\n",
       "      <td>73.000001</td>\n",
       "      <td>73.000000</td>\n",
       "    </tr>\n",
       "  </tbody>\n",
       "</table>\n",
       "<p>5 rows × 34 columns</p>\n",
       "</div>"
      ],
      "text/plain": [
       "                ID  Decision     Build_Selfcon  Tier Accommodation_Class  \\\n",
       "0  FBD-E2B0-588300         1  Self Contruction     2          Non_Rented   \n",
       "1  GUJ-A79X-831476         0  Self Contruction     1          Non_Rented   \n",
       "2  SHB-947O-759226         1  Self Contruction     3              Rented   \n",
       "3  SHB-7S3I-679761         1  Self Contruction     3          Non_Rented   \n",
       "4  VAD-BPKZ-551476         0  Self Contruction     2          Non_Rented   \n",
       "\n",
       "   Loan_Type  Gender Employment_Type Doc_Proof_Inc Marital_Status  ...  \\\n",
       "0  Home_Loan  Female        Salaried             N        Married  ...   \n",
       "1  Home_Loan  Female   Self_Employed             N        Married  ...   \n",
       "2  Home_Loan  Female        Salaried             N        Married  ...   \n",
       "3  Home_Loan  Female   Self_Employed             N        Married  ...   \n",
       "4  Home_Loan  Female   Self_Employed             N        Married  ...   \n",
       "\n",
       "   LoanReq Term  Dwnpay  BankSave       CalcEmi        IIR        IAR  \\\n",
       "0   780000  180  670000         0  12004.230470  34.999797  45.000114   \n",
       "1   800000  180  470000         0  12312.030270  49.248121  75.533928   \n",
       "2   480000  120  120000    300000   8342.290039  41.999144  79.998946   \n",
       "3   300000  180   95000         0   4617.009766  30.999126  84.996498   \n",
       "4  1000000  180  375000         0  15390.040040  45.000117  57.999020   \n",
       "\n",
       "        FOIR        LTV        LVR  \n",
       "0  34.999797  80.000000  54.000000  \n",
       "1  49.248121  62.992126  62.992126  \n",
       "2  41.999144  78.999992  80.000000  \n",
       "3  30.999126  20.000000  76.000000  \n",
       "4  45.000117  73.000001  73.000000  \n",
       "\n",
       "[5 rows x 34 columns]"
      ]
     },
     "execution_count": 4,
     "metadata": {},
     "output_type": "execute_result"
    }
   ],
   "source": [
    "data.head()"
   ]
  },
  {
   "cell_type": "markdown",
   "metadata": {},
   "source": [
    "## Prepare data"
   ]
  },
  {
   "cell_type": "code",
   "execution_count": 5,
   "metadata": {},
   "outputs": [],
   "source": [
    "data = data.drop(['ID'], axis=1)\n",
    "data[\"Tier\"] = data[\"Tier\"].apply(lambda x: \"T\"+str(x))"
   ]
  },
  {
   "cell_type": "code",
   "execution_count": 6,
   "metadata": {},
   "outputs": [],
   "source": [
    "train, test = train_test_split(data, test_size=0.2, random_state=42)"
   ]
  },
  {
   "cell_type": "markdown",
   "metadata": {},
   "source": [
    "## Exploratory data analysis"
   ]
  },
  {
   "cell_type": "markdown",
   "metadata": {},
   "source": [
    "### Descriptive summary statistics"
   ]
  },
  {
   "cell_type": "markdown",
   "metadata": {},
   "source": [
    "Calculate base rate of mortgage approvals."
   ]
  },
  {
   "cell_type": "code",
   "execution_count": 7,
   "metadata": {},
   "outputs": [
    {
     "data": {
      "text/plain": [
       "0.8037848605577689"
      ]
     },
     "execution_count": 7,
     "metadata": {},
     "output_type": "execute_result"
    }
   ],
   "source": [
    "train[\"Decision\"].mean()"
   ]
  },
  {
   "cell_type": "markdown",
   "metadata": {},
   "source": [
    "### Explore relationships between response and predictors."
   ]
  },
  {
   "cell_type": "code",
   "execution_count": 8,
   "metadata": {},
   "outputs": [
    {
     "data": {
      "image/png": "[encoded data removed]",
      "text/plain": [
       "<Figure size 640x480 with 1 Axes>"
      ]
     },
     "metadata": {},
     "output_type": "display_data"
    }
   ],
   "source": [
    "sns.boxplot(data=train, x=\"Decision\", y=\"Age\")\n",
    "plt.show()"
   ]
  },
  {
   "cell_type": "code",
   "execution_count": 9,
   "metadata": {},
   "outputs": [],
   "source": [
    "# YOUR CODE HERE"
   ]
  },
  {
   "cell_type": "code",
   "execution_count": 10,
   "metadata": {},
   "outputs": [
    {
     "data": {
      "image/png": "[encoded data removed]",
      "text/plain": [
       "<Figure size 640x480 with 1 Axes>"
      ]
     },
     "metadata": {},
     "output_type": "display_data"
    }
   ],
   "source": [
    "sns.barplot(data=train, x=\"Gender\", y=\"Decision\")\n",
    "plt.show()"
   ]
  },
  {
   "cell_type": "code",
   "execution_count": 11,
   "metadata": {},
   "outputs": [],
   "source": [
    "# YOUR CODE HERE"
   ]
  },
  {
   "cell_type": "markdown",
   "metadata": {},
   "source": [
    "## Logistic Regression"
   ]
  },
  {
   "cell_type": "code",
   "execution_count": 12,
   "metadata": {},
   "outputs": [
    {
     "name": "stdout",
     "output_type": "stream",
     "text": [
      "Optimization terminated successfully.\n",
      "         Current function value: 0.492919\n",
      "         Iterations 6\n"
     ]
    }
   ],
   "source": [
    "model_logit = smf.logit(formula='Decision ~ Age + Gender', data=train)\n",
    "model_logit = model_logit.fit()"
   ]
  },
  {
   "cell_type": "code",
   "execution_count": 13,
   "metadata": {},
   "outputs": [
    {
     "name": "stdout",
     "output_type": "stream",
     "text": [
      "                           Logit Regression Results                           \n",
      "==============================================================================\n",
      "Dep. Variable:               Decision   No. Observations:                 1004\n",
      "Model:                          Logit   Df Residuals:                     1001\n",
      "Method:                           MLE   Df Model:                            2\n",
      "Date:                Thu, 15 Feb 2024   Pseudo R-squ.:                0.004426\n",
      "Time:                        16:46:34   Log-Likelihood:                -494.89\n",
      "converged:                       True   LL-Null:                       -497.09\n",
      "Covariance Type:            nonrobust   LLR p-value:                    0.1108\n",
      "==================================================================================\n",
      "                     coef    std err          z      P>|z|      [0.025      0.975]\n",
      "----------------------------------------------------------------------------------\n",
      "Intercept          1.6257      0.364      4.472      0.000       0.913       2.338\n",
      "Gender[T.Male]     0.6528      0.348      1.878      0.060      -0.029       1.334\n",
      "Age               -0.0069      0.009     -0.736      0.462      -0.025       0.011\n",
      "==================================================================================\n"
     ]
    }
   ],
   "source": [
    "print(model_logit.summary())"
   ]
  },
  {
   "cell_type": "code",
   "execution_count": 14,
   "metadata": {},
   "outputs": [],
   "source": [
    "pred_proba = model_logit.predict(test)\n",
    "pred_label = round(pred_proba, 0)"
   ]
  },
  {
   "cell_type": "code",
   "execution_count": 15,
   "metadata": {},
   "outputs": [
    {
     "name": "stdout",
     "output_type": "stream",
     "text": [
      "              precision    recall  f1-score   support\n",
      "\n",
      "           0       0.00      0.00      0.00        55\n",
      "           1       0.78      1.00      0.88       197\n",
      "\n",
      "    accuracy                           0.78       252\n",
      "   macro avg       0.39      0.50      0.44       252\n",
      "weighted avg       0.61      0.78      0.69       252\n",
      "\n"
     ]
    }
   ],
   "source": [
    "print(classification_report(test[\"Decision\"], pred_label))"
   ]
  },
  {
   "cell_type": "code",
   "execution_count": 16,
   "metadata": {},
   "outputs": [
    {
     "data": {
      "image/png": "[encoded data removed]",
      "text/plain": [
       "<Figure size 640x480 with 1 Axes>"
      ]
     },
     "metadata": {},
     "output_type": "display_data"
    }
   ],
   "source": [
    "fpr, tpr, thresholds = roc_curve(test[\"Decision\"], pred_proba)\n",
    "auc_score = auc(fpr, tpr)\n",
    "display = RocCurveDisplay(fpr=fpr, tpr=tpr, roc_auc=auc_score, estimator_name='Random Forest')\n",
    "display.plot()\n",
    "plt.show()"
   ]
  }
 ],
 "metadata": {
  "kernelspec": {
   "display_name": "prodok",
   "language": "python",
   "name": "python3"
  },
  "language_info": {
   "codemirror_mode": {
    "name": "ipython",
    "version": 3
   },
   "file_extension": ".py",
   "mimetype": "text/x-python",
   "name": "python",
   "nbconvert_exporter": "python",
   "pygments_lexer": "ipython3",
   "version": "3.12.1"
  }
 },
 "nbformat": 4,
 "nbformat_minor": 2
}
