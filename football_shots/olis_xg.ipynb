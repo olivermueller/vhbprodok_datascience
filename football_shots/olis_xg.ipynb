{
 "cells": [
  {
   "cell_type": "markdown",
   "metadata": {},
   "source": [
    "# Building an Interpretable Expected Goals (xG) Model\n",
    "* Author: Oliver Mueller\n",
    "* Date: 2024-02-15"
   ]
  },
  {
   "cell_type": "code",
   "execution_count": 30,
   "metadata": {},
   "outputs": [],
   "source": [
    "import warnings\n",
    "warnings.filterwarnings(\"ignore\")\n",
    "\n",
    "import datetime\n",
    "import numpy as np\n",
    "import pandas as pd\n",
    "import seaborn as sns\n",
    "from tqdm import tqdm\n",
    "import matplotlib.pyplot as plt\n",
    "from statsbombpy import sb\n",
    "import math\n",
    "from sklearn.model_selection import train_test_split\n",
    "from sklearn.metrics import roc_curve, roc_auc_score, auc, RocCurveDisplay\n",
    "from sklearn.metrics import classification_report\n",
    "import statsmodels.api as sm\n",
    "import statsmodels.formula.api as smf"
   ]
  },
  {
   "cell_type": "markdown",
   "metadata": {},
   "source": [
    "## Load data"
   ]
  },
  {
   "cell_type": "markdown",
   "metadata": {},
   "source": [
    "Using the `statsbombpy`package, we will query the StatsBomb API for all events of the Bundesliga season 2015/16.  "
   ]
  },
  {
   "cell_type": "code",
   "execution_count": 2,
   "metadata": {},
   "outputs": [
    {
     "name": "stderr",
     "output_type": "stream",
     "text": [
      "/Users/oliver/miniconda3/envs/prodok/lib/python3.12/site-packages/statsbombpy/api_client.py:21: NoAuthWarning: credentials were not supplied. open data access only\n",
      "  warnings.warn(\n",
      "/Users/oliver/miniconda3/envs/prodok/lib/python3.12/site-packages/statsbombpy/api_client.py:21: NoAuthWarning: credentials were not supplied. open data access only\n",
      "  warnings.warn(\n",
      "/Users/oliver/miniconda3/envs/prodok/lib/python3.12/site-packages/statsbombpy/api_client.py:21: NoAuthWarning: credentials were not supplied. open data access only\n",
      "  warnings.warn(\n",
      "/Users/oliver/miniconda3/envs/prodok/lib/python3.12/site-packages/statsbombpy/api_client.py:21: NoAuthWarning: credentials were not supplied. open data access only\n",
      "  warnings.warn(\n",
      "/Users/oliver/miniconda3/envs/prodok/lib/python3.12/site-packages/statsbombpy/api_client.py:21: NoAuthWarning: credentials were not supplied. open data access only\n",
      "  warnings.warn(\n",
      "/Users/oliver/miniconda3/envs/prodok/lib/python3.12/site-packages/statsbombpy/api_client.py:21: NoAuthWarning: credentials were not supplied. open data access only\n",
      "  warnings.warn(\n",
      "/Users/oliver/miniconda3/envs/prodok/lib/python3.12/site-packages/statsbombpy/api_client.py:21: NoAuthWarning: credentials were not supplied. open data access only\n",
      "  warnings.warn(\n"
     ]
    }
   ],
   "source": [
    "grouped_events = sb.competition_events(\n",
    "    country=\"Germany\",\n",
    "    division= \"1. Bundesliga\",\n",
    "    season=\"2015/2016\",\n",
    "    gender=\"male\",\n",
    "    split=True\n",
    ")"
   ]
  },
  {
   "cell_type": "markdown",
   "metadata": {},
   "source": [
    "What types of events do we have?"
   ]
  },
  {
   "cell_type": "code",
   "execution_count": 3,
   "metadata": {},
   "outputs": [
    {
     "data": {
      "text/plain": [
       "dict_keys(['starting_xis', 'half_starts', 'passes', 'ball_receipts', 'carrys', 'pressures', 'blocks', 'ball_recoverys', 'miscontrols', 'interceptions', 'foul_committeds', 'foul_wons', 'shots', 'goal_keepers', 'duels', 'dribbles', 'dribbled_pasts', 'clearances', 'dispossesseds', 'tactical_shifts', 'injury_stoppages', 'player_offs', 'player_ons', 'half_ends', 'substitutions', 'shields', 'own_goal_againsts', 'own_goal_fors', '50/50s', 'referee_ball_drops', 'bad_behaviours', 'offsides', 'errors'])"
      ]
     },
     "execution_count": 3,
     "metadata": {},
     "output_type": "execute_result"
    }
   ],
   "source": [
    "grouped_events.keys()"
   ]
  },
  {
   "cell_type": "markdown",
   "metadata": {},
   "source": [
    "Extract and explore the shots."
   ]
  },
  {
   "cell_type": "code",
   "execution_count": 4,
   "metadata": {},
   "outputs": [],
   "source": [
    "shots = grouped_events[\"shots\"]"
   ]
  },
  {
   "cell_type": "code",
   "execution_count": 5,
   "metadata": {},
   "outputs": [
    {
     "data": {
      "text/plain": [
       "(7831, 40)"
      ]
     },
     "execution_count": 5,
     "metadata": {},
     "output_type": "execute_result"
    }
   ],
   "source": [
    "shots.shape"
   ]
  },
  {
   "cell_type": "code",
   "execution_count": 6,
   "metadata": {},
   "outputs": [
    {
     "data": {
      "text/html": [
       "<div>\n",
       "<style scoped>\n",
       "    .dataframe tbody tr th:only-of-type {\n",
       "        vertical-align: middle;\n",
       "    }\n",
       "\n",
       "    .dataframe tbody tr th {\n",
       "        vertical-align: top;\n",
       "    }\n",
       "\n",
       "    .dataframe thead th {\n",
       "        text-align: right;\n",
       "    }\n",
       "</style>\n",
       "<table border=\"1\" class=\"dataframe\">\n",
       "  <thead>\n",
       "    <tr style=\"text-align: right;\">\n",
       "      <th></th>\n",
       "      <th>id</th>\n",
       "      <th>index</th>\n",
       "      <th>period</th>\n",
       "      <th>timestamp</th>\n",
       "      <th>minute</th>\n",
       "      <th>second</th>\n",
       "      <th>type</th>\n",
       "      <th>possession</th>\n",
       "      <th>possession_team</th>\n",
       "      <th>play_pattern</th>\n",
       "      <th>...</th>\n",
       "      <th>shot_aerial_won</th>\n",
       "      <th>shot_one_on_one</th>\n",
       "      <th>shot_deflected</th>\n",
       "      <th>out</th>\n",
       "      <th>shot_open_goal</th>\n",
       "      <th>shot_redirect</th>\n",
       "      <th>shot_saved_off_target</th>\n",
       "      <th>shot_saved_to_post</th>\n",
       "      <th>off_camera</th>\n",
       "      <th>shot_follows_dribble</th>\n",
       "    </tr>\n",
       "  </thead>\n",
       "  <tbody>\n",
       "    <tr>\n",
       "      <th>0</th>\n",
       "      <td>ba46e9d6-e828-4599-952c-39c1f7d22659</td>\n",
       "      <td>263</td>\n",
       "      <td>1</td>\n",
       "      <td>00:04:21.052</td>\n",
       "      <td>4</td>\n",
       "      <td>21</td>\n",
       "      <td>Shot</td>\n",
       "      <td>7</td>\n",
       "      <td>Hoffenheim</td>\n",
       "      <td>Regular Play</td>\n",
       "      <td>...</td>\n",
       "      <td>NaN</td>\n",
       "      <td>NaN</td>\n",
       "      <td>NaN</td>\n",
       "      <td>NaN</td>\n",
       "      <td>NaN</td>\n",
       "      <td>NaN</td>\n",
       "      <td>NaN</td>\n",
       "      <td>NaN</td>\n",
       "      <td>NaN</td>\n",
       "      <td>NaN</td>\n",
       "    </tr>\n",
       "    <tr>\n",
       "      <th>1</th>\n",
       "      <td>85d67225-30fb-47c8-b478-cf568941a164</td>\n",
       "      <td>353</td>\n",
       "      <td>1</td>\n",
       "      <td>00:06:27.395</td>\n",
       "      <td>6</td>\n",
       "      <td>27</td>\n",
       "      <td>Shot</td>\n",
       "      <td>11</td>\n",
       "      <td>Schalke 04</td>\n",
       "      <td>From Throw In</td>\n",
       "      <td>...</td>\n",
       "      <td>NaN</td>\n",
       "      <td>NaN</td>\n",
       "      <td>NaN</td>\n",
       "      <td>NaN</td>\n",
       "      <td>NaN</td>\n",
       "      <td>NaN</td>\n",
       "      <td>NaN</td>\n",
       "      <td>NaN</td>\n",
       "      <td>NaN</td>\n",
       "      <td>NaN</td>\n",
       "    </tr>\n",
       "    <tr>\n",
       "      <th>2</th>\n",
       "      <td>adac17d3-5e67-4e8c-b482-4bae2f36e06e</td>\n",
       "      <td>410</td>\n",
       "      <td>1</td>\n",
       "      <td>00:08:16.762</td>\n",
       "      <td>8</td>\n",
       "      <td>16</td>\n",
       "      <td>Shot</td>\n",
       "      <td>15</td>\n",
       "      <td>Hoffenheim</td>\n",
       "      <td>From Throw In</td>\n",
       "      <td>...</td>\n",
       "      <td>NaN</td>\n",
       "      <td>NaN</td>\n",
       "      <td>NaN</td>\n",
       "      <td>NaN</td>\n",
       "      <td>NaN</td>\n",
       "      <td>NaN</td>\n",
       "      <td>NaN</td>\n",
       "      <td>NaN</td>\n",
       "      <td>NaN</td>\n",
       "      <td>NaN</td>\n",
       "    </tr>\n",
       "    <tr>\n",
       "      <th>3</th>\n",
       "      <td>abffd193-62bc-4c8d-8636-1e3f0f0ebbe5</td>\n",
       "      <td>624</td>\n",
       "      <td>1</td>\n",
       "      <td>00:13:55.721</td>\n",
       "      <td>13</td>\n",
       "      <td>55</td>\n",
       "      <td>Shot</td>\n",
       "      <td>27</td>\n",
       "      <td>Schalke 04</td>\n",
       "      <td>From Counter</td>\n",
       "      <td>...</td>\n",
       "      <td>NaN</td>\n",
       "      <td>NaN</td>\n",
       "      <td>NaN</td>\n",
       "      <td>NaN</td>\n",
       "      <td>NaN</td>\n",
       "      <td>NaN</td>\n",
       "      <td>NaN</td>\n",
       "      <td>NaN</td>\n",
       "      <td>NaN</td>\n",
       "      <td>NaN</td>\n",
       "    </tr>\n",
       "    <tr>\n",
       "      <th>4</th>\n",
       "      <td>d9cea903-f92a-40e1-a393-1a849d83f157</td>\n",
       "      <td>749</td>\n",
       "      <td>1</td>\n",
       "      <td>00:17:16.953</td>\n",
       "      <td>17</td>\n",
       "      <td>16</td>\n",
       "      <td>Shot</td>\n",
       "      <td>33</td>\n",
       "      <td>Schalke 04</td>\n",
       "      <td>Regular Play</td>\n",
       "      <td>...</td>\n",
       "      <td>NaN</td>\n",
       "      <td>NaN</td>\n",
       "      <td>NaN</td>\n",
       "      <td>NaN</td>\n",
       "      <td>NaN</td>\n",
       "      <td>NaN</td>\n",
       "      <td>NaN</td>\n",
       "      <td>NaN</td>\n",
       "      <td>NaN</td>\n",
       "      <td>NaN</td>\n",
       "    </tr>\n",
       "  </tbody>\n",
       "</table>\n",
       "<p>5 rows × 40 columns</p>\n",
       "</div>"
      ],
      "text/plain": [
       "                                     id  index  period     timestamp  minute  \\\n",
       "0  ba46e9d6-e828-4599-952c-39c1f7d22659    263       1  00:04:21.052       4   \n",
       "1  85d67225-30fb-47c8-b478-cf568941a164    353       1  00:06:27.395       6   \n",
       "2  adac17d3-5e67-4e8c-b482-4bae2f36e06e    410       1  00:08:16.762       8   \n",
       "3  abffd193-62bc-4c8d-8636-1e3f0f0ebbe5    624       1  00:13:55.721      13   \n",
       "4  d9cea903-f92a-40e1-a393-1a849d83f157    749       1  00:17:16.953      17   \n",
       "\n",
       "   second  type  possession possession_team   play_pattern  ...  \\\n",
       "0      21  Shot           7      Hoffenheim   Regular Play  ...   \n",
       "1      27  Shot          11      Schalke 04  From Throw In  ...   \n",
       "2      16  Shot          15      Hoffenheim  From Throw In  ...   \n",
       "3      55  Shot          27      Schalke 04   From Counter  ...   \n",
       "4      16  Shot          33      Schalke 04   Regular Play  ...   \n",
       "\n",
       "  shot_aerial_won shot_one_on_one shot_deflected  out  shot_open_goal  \\\n",
       "0             NaN             NaN            NaN  NaN             NaN   \n",
       "1             NaN             NaN            NaN  NaN             NaN   \n",
       "2             NaN             NaN            NaN  NaN             NaN   \n",
       "3             NaN             NaN            NaN  NaN             NaN   \n",
       "4             NaN             NaN            NaN  NaN             NaN   \n",
       "\n",
       "  shot_redirect  shot_saved_off_target  shot_saved_to_post off_camera  \\\n",
       "0           NaN                    NaN                 NaN        NaN   \n",
       "1           NaN                    NaN                 NaN        NaN   \n",
       "2           NaN                    NaN                 NaN        NaN   \n",
       "3           NaN                    NaN                 NaN        NaN   \n",
       "4           NaN                    NaN                 NaN        NaN   \n",
       "\n",
       "  shot_follows_dribble  \n",
       "0                  NaN  \n",
       "1                  NaN  \n",
       "2                  NaN  \n",
       "3                  NaN  \n",
       "4                  NaN  \n",
       "\n",
       "[5 rows x 40 columns]"
      ]
     },
     "execution_count": 6,
     "metadata": {},
     "output_type": "execute_result"
    }
   ],
   "source": [
    "shots.head()"
   ]
  },
  {
   "cell_type": "code",
   "execution_count": 7,
   "metadata": {},
   "outputs": [
    {
     "data": {
      "text/plain": [
       "Index(['id', 'index', 'period', 'timestamp', 'minute', 'second', 'type',\n",
       "       'possession', 'possession_team', 'play_pattern', 'team', 'player',\n",
       "       'position', 'location', 'duration', 'related_events', 'match_id',\n",
       "       'shot_statsbomb_xg', 'shot_end_location', 'shot_key_pass_id',\n",
       "       'shot_type', 'shot_outcome', 'shot_first_time', 'shot_technique',\n",
       "       'shot_body_part', 'shot_freeze_frame', 'possession_team_id', 'team_id',\n",
       "       'player_id', 'under_pressure', 'shot_aerial_won', 'shot_one_on_one',\n",
       "       'shot_deflected', 'out', 'shot_open_goal', 'shot_redirect',\n",
       "       'shot_saved_off_target', 'shot_saved_to_post', 'off_camera',\n",
       "       'shot_follows_dribble'],\n",
       "      dtype='object')"
      ]
     },
     "execution_count": 7,
     "metadata": {},
     "output_type": "execute_result"
    }
   ],
   "source": [
    "shots.columns"
   ]
  },
  {
   "cell_type": "code",
   "execution_count": 8,
   "metadata": {},
   "outputs": [
    {
     "data": {
      "text/plain": [
       "id                                    ba46e9d6-e828-4599-952c-39c1f7d22659\n",
       "index                                                                  263\n",
       "period                                                                   1\n",
       "timestamp                                                     00:04:21.052\n",
       "minute                                                                   4\n",
       "second                                                                  21\n",
       "type                                                                  Shot\n",
       "possession                                                               7\n",
       "possession_team                                                 Hoffenheim\n",
       "play_pattern                                                  Regular Play\n",
       "team                                                            Hoffenheim\n",
       "player                                                   Tarik Elyounoussi\n",
       "position                                                    Left Wing Back\n",
       "location                                                     [108.1, 31.2]\n",
       "duration                                                          0.597523\n",
       "related_events                      [510415d8-785b-4476-a852-d8dab88514ec]\n",
       "match_id                                                           3890561\n",
       "shot_statsbomb_xg                                                 0.087901\n",
       "shot_end_location                                       [120.0, 35.2, 1.0]\n",
       "shot_key_pass_id                      c847e287-a1fa-4755-95c0-f80e8484fa9e\n",
       "shot_type                                                        Open Play\n",
       "shot_outcome                                                         Off T\n",
       "shot_first_time                                                       True\n",
       "shot_technique                                                 Half Volley\n",
       "shot_body_part                                                   Left Foot\n",
       "shot_freeze_frame        [{'location': [115.7, 50.0], 'player': {'id': ...\n",
       "possession_team_id                                                     175\n",
       "team_id                                                                175\n",
       "player_id                                                            26832\n",
       "under_pressure                                                         NaN\n",
       "shot_aerial_won                                                        NaN\n",
       "shot_one_on_one                                                        NaN\n",
       "shot_deflected                                                         NaN\n",
       "out                                                                    NaN\n",
       "shot_open_goal                                                         NaN\n",
       "shot_redirect                                                          NaN\n",
       "shot_saved_off_target                                                  NaN\n",
       "shot_saved_to_post                                                     NaN\n",
       "off_camera                                                             NaN\n",
       "shot_follows_dribble                                                   NaN\n",
       "Name: 0, dtype: object"
      ]
     },
     "execution_count": 8,
     "metadata": {},
     "output_type": "execute_result"
    }
   ],
   "source": [
    "shots.iloc[0]"
   ]
  },
  {
   "cell_type": "code",
   "execution_count": 9,
   "metadata": {},
   "outputs": [
    {
     "data": {
      "text/plain": [
       "[{'location': [115.7, 50.0],\n",
       "  'player': {'id': 3510, 'name': 'Sead Kolašinac'},\n",
       "  'position': {'id': 6, 'name': 'Left Back'},\n",
       "  'teammate': False},\n",
       " {'location': [113.2, 39.3],\n",
       "  'player': {'id': 3502, 'name': 'Joël Andre Job Matip'},\n",
       "  'position': {'id': 3, 'name': 'Right Center Back'},\n",
       "  'teammate': False},\n",
       " {'location': [119.0, 42.5],\n",
       "  'player': {'id': 16534, 'name': 'Roman Neustädter'},\n",
       "  'position': {'id': 5, 'name': 'Left Center Back'},\n",
       "  'teammate': False},\n",
       " {'location': [111.6, 34.8],\n",
       "  'player': {'id': 7016, 'name': 'Benedikt Höwedes'},\n",
       "  'position': {'id': 2, 'name': 'Right Back'},\n",
       "  'teammate': False},\n",
       " {'location': [96.7, 36.3],\n",
       "  'player': {'id': 6039, 'name': 'Sebastian Rudy'},\n",
       "  'position': {'id': 11, 'name': 'Left Defensive Midfield'},\n",
       "  'teammate': True},\n",
       " {'location': [104.0, 43.8],\n",
       "  'player': {'id': 8556, 'name': 'Pirmin Schwegler'},\n",
       "  'position': {'id': 9, 'name': 'Right Defensive Midfield'},\n",
       "  'teammate': True},\n",
       " {'location': [109.2, 37.7],\n",
       "  'player': {'id': 5460, 'name': 'Andrej Kramarić'},\n",
       "  'position': {'id': 23, 'name': 'Center Forward'},\n",
       "  'teammate': True},\n",
       " {'location': [111.6, 41.9],\n",
       "  'player': {'id': 8387, 'name': 'Mark Uth'},\n",
       "  'position': {'id': 18, 'name': 'Right Attacking Midfield'},\n",
       "  'teammate': True},\n",
       " {'location': [119.0, 38.7],\n",
       "  'player': {'id': 8517, 'name': 'Ralf Fährmann'},\n",
       "  'position': {'id': 1, 'name': 'Goalkeeper'},\n",
       "  'teammate': False},\n",
       " {'location': [93.8, 39.7],\n",
       "  'player': {'id': 8508, 'name': 'Max Meyer'},\n",
       "  'position': {'id': 13, 'name': 'Right Center Midfield'},\n",
       "  'teammate': False},\n",
       " {'location': [89.8, 27.4],\n",
       "  'player': {'id': 3053, 'name': 'Leroy Sané'},\n",
       "  'position': {'id': 12, 'name': 'Right Midfield'},\n",
       "  'teammate': False},\n",
       " {'location': [103.5, 50.4],\n",
       "  'player': {'id': 5242, 'name': 'Younès Belhanda'},\n",
       "  'position': {'id': 15, 'name': 'Left Center Midfield'},\n",
       "  'teammate': False}]"
      ]
     },
     "execution_count": 9,
     "metadata": {},
     "output_type": "execute_result"
    }
   ],
   "source": [
    "shots.iloc[0][\"shot_freeze_frame\"]"
   ]
  },
  {
   "cell_type": "code",
   "execution_count": 10,
   "metadata": {},
   "outputs": [
    {
     "data": {
      "text/plain": [
       "shot_outcome\n",
       "Off T               2452\n",
       "Saved               1961\n",
       "Blocked             1820\n",
       "Goal                 837\n",
       "Wayward              550\n",
       "Post                 160\n",
       "Saved to Post         35\n",
       "Saved Off Target      16\n",
       "Name: count, dtype: int64"
      ]
     },
     "execution_count": 10,
     "metadata": {},
     "output_type": "execute_result"
    }
   ],
   "source": [
    "shots[\"shot_outcome\"].value_counts()"
   ]
  },
  {
   "cell_type": "markdown",
   "metadata": {},
   "source": [
    "## Train classifier"
   ]
  },
  {
   "cell_type": "markdown",
   "metadata": {},
   "source": [
    "Construct the label."
   ]
  },
  {
   "cell_type": "code",
   "execution_count": 11,
   "metadata": {},
   "outputs": [],
   "source": [
    "shots[\"is_goal\"] = shots[\"shot_outcome\"].apply(lambda x: 1 if x == \"Goal\" else 0)"
   ]
  },
  {
   "cell_type": "markdown",
   "metadata": {},
   "source": [
    "Engineer some features."
   ]
  },
  {
   "cell_type": "code",
   "execution_count": 12,
   "metadata": {},
   "outputs": [],
   "source": [
    "shots[\"location_x\"] = shots[\"location\"].apply(lambda x: float(x[0]))\n",
    "shots[\"location_y\"] = shots[\"location\"].apply(lambda x: float(x[1]))"
   ]
  },
  {
   "cell_type": "code",
   "execution_count": 13,
   "metadata": {},
   "outputs": [],
   "source": [
    "shots[\"distance_to_goal\"] = shots.apply(lambda row: math.dist(row[\"location\"], [120.0, 40.0]), axis=1)"
   ]
  },
  {
   "cell_type": "code",
   "execution_count": 14,
   "metadata": {},
   "outputs": [],
   "source": [
    "def angle_between(a, b, c):\n",
    "    ang = math.degrees(math.atan2(c[1]-b[1], c[0]-b[0]) - math.atan2(a[1]-b[1], a[0]-b[0]))\n",
    "    return ang + 360 if ang < 0 else ang"
   ]
  },
  {
   "cell_type": "code",
   "execution_count": 15,
   "metadata": {},
   "outputs": [],
   "source": [
    "shots[\"angle_to_goal\"] = shots.apply(lambda row: angle_between(row[\"location\"], [120.0, 44.0], [120.0, 36.0]), axis=1)"
   ]
  },
  {
   "cell_type": "code",
   "execution_count": 16,
   "metadata": {},
   "outputs": [
    {
     "data": {
      "text/plain": [
       "id                                    ba46e9d6-e828-4599-952c-39c1f7d22659\n",
       "index                                                                  263\n",
       "period                                                                   1\n",
       "timestamp                                                     00:04:21.052\n",
       "minute                                                                   4\n",
       "second                                                                  21\n",
       "type                                                                  Shot\n",
       "possession                                                               7\n",
       "possession_team                                                 Hoffenheim\n",
       "play_pattern                                                  Regular Play\n",
       "team                                                            Hoffenheim\n",
       "player                                                   Tarik Elyounoussi\n",
       "position                                                    Left Wing Back\n",
       "location                                                     [108.1, 31.2]\n",
       "duration                                                          0.597523\n",
       "related_events                      [510415d8-785b-4476-a852-d8dab88514ec]\n",
       "match_id                                                           3890561\n",
       "shot_statsbomb_xg                                                 0.087901\n",
       "shot_end_location                                       [120.0, 35.2, 1.0]\n",
       "shot_key_pass_id                      c847e287-a1fa-4755-95c0-f80e8484fa9e\n",
       "shot_type                                                        Open Play\n",
       "shot_outcome                                                         Off T\n",
       "shot_first_time                                                       True\n",
       "shot_technique                                                 Half Volley\n",
       "shot_body_part                                                   Left Foot\n",
       "shot_freeze_frame        [{'location': [115.7, 50.0], 'player': {'id': ...\n",
       "possession_team_id                                                     175\n",
       "team_id                                                                175\n",
       "player_id                                                            26832\n",
       "under_pressure                                                         NaN\n",
       "shot_aerial_won                                                        NaN\n",
       "shot_one_on_one                                                        NaN\n",
       "shot_deflected                                                         NaN\n",
       "out                                                                    NaN\n",
       "shot_open_goal                                                         NaN\n",
       "shot_redirect                                                          NaN\n",
       "shot_saved_off_target                                                  NaN\n",
       "shot_saved_to_post                                                     NaN\n",
       "off_camera                                                             NaN\n",
       "shot_follows_dribble                                                   NaN\n",
       "is_goal                                                                  0\n",
       "location_x                                                           108.1\n",
       "location_y                                                            31.2\n",
       "distance_to_goal                                                 14.800338\n",
       "angle_to_goal                                                    42.913223\n",
       "Name: 0, dtype: object"
      ]
     },
     "execution_count": 16,
     "metadata": {},
     "output_type": "execute_result"
    }
   ],
   "source": [
    "shots.iloc[0]"
   ]
  },
  {
   "cell_type": "markdown",
   "metadata": {},
   "source": [
    "Make a train-test split."
   ]
  },
  {
   "cell_type": "code",
   "execution_count": 17,
   "metadata": {},
   "outputs": [],
   "source": [
    "train, test = train_test_split(shots, test_size=0.2, random_state=42)"
   ]
  },
  {
   "cell_type": "markdown",
   "metadata": {},
   "source": [
    "Train a logistic regression model."
   ]
  },
  {
   "cell_type": "code",
   "execution_count": 46,
   "metadata": {},
   "outputs": [
    {
     "name": "stdout",
     "output_type": "stream",
     "text": [
      "Optimization terminated successfully.\n",
      "         Current function value: 0.299627\n",
      "         Iterations 7\n"
     ]
    }
   ],
   "source": [
    "model_logit = smf.logit(formula='is_goal ~ location_x + location_y + distance_to_goal', data=train)\n",
    "model_logit = model_logit.fit()"
   ]
  },
  {
   "cell_type": "code",
   "execution_count": 47,
   "metadata": {},
   "outputs": [
    {
     "name": "stdout",
     "output_type": "stream",
     "text": [
      "                           Logit Regression Results                           \n",
      "==============================================================================\n",
      "Dep. Variable:                is_goal   No. Observations:                 6264\n",
      "Model:                          Logit   Df Residuals:                     6260\n",
      "Method:                           MLE   Df Model:                            3\n",
      "Date:                Fri, 16 Feb 2024   Pseudo R-squ.:                  0.1217\n",
      "Time:                        15:21:19   Log-Likelihood:                -1876.9\n",
      "converged:                       True   LL-Null:                       -2136.8\n",
      "Covariance Type:            nonrobust   LLR p-value:                2.288e-112\n",
      "====================================================================================\n",
      "                       coef    std err          z      P>|z|      [0.025      0.975]\n",
      "------------------------------------------------------------------------------------\n",
      "Intercept           10.6105      2.328      4.558      0.000       6.048      15.173\n",
      "location_x          -0.0903      0.019     -4.682      0.000      -0.128      -0.052\n",
      "location_y           0.0066      0.006      1.064      0.287      -0.006       0.019\n",
      "distance_to_goal    -0.2144      0.019    -11.361      0.000      -0.251      -0.177\n",
      "====================================================================================\n"
     ]
    }
   ],
   "source": [
    "print(model_logit.summary())"
   ]
  },
  {
   "cell_type": "markdown",
   "metadata": {},
   "source": [
    "Evaluate the model."
   ]
  },
  {
   "cell_type": "code",
   "execution_count": 48,
   "metadata": {},
   "outputs": [],
   "source": [
    "pred_proba = model_logit.predict(test)"
   ]
  },
  {
   "cell_type": "code",
   "execution_count": 49,
   "metadata": {},
   "outputs": [
    {
     "data": {
      "text/plain": [
       "0.7545068928950159"
      ]
     },
     "execution_count": 49,
     "metadata": {},
     "output_type": "execute_result"
    }
   ],
   "source": [
    "roc_auc_score(test[\"is_goal\"], pred_proba)"
   ]
  },
  {
   "cell_type": "markdown",
   "metadata": {},
   "source": [
    "## Visualize model"
   ]
  },
  {
   "cell_type": "markdown",
   "metadata": {},
   "source": [
    "We create a 2D grid of x/y pitch coordinates from (0, 0) to (120, 80). We also calculate distance and angle to the goal for each cell."
   ]
  },
  {
   "cell_type": "code",
   "execution_count": 58,
   "metadata": {},
   "outputs": [],
   "source": [
    "simulated_positions = pd.DataFrame()\n",
    "simulated_positions[\"location_x\"] = np.tile(np.arange(0, 121, 1), 81)\n",
    "simulated_positions[\"location_y\"] = np.repeat(np.arange(0, 81, 1), 121)\n",
    "simulated_positions[\"distance_to_goal\"] = simulated_positions.apply(lambda row: math.dist([row[\"location_x\"], row[\"location_y\"]], [120.0, 40.0]), axis=1)"
   ]
  },
  {
   "cell_type": "code",
   "execution_count": 59,
   "metadata": {},
   "outputs": [
    {
     "data": {
      "text/html": [
       "<div>\n",
       "<style scoped>\n",
       "    .dataframe tbody tr th:only-of-type {\n",
       "        vertical-align: middle;\n",
       "    }\n",
       "\n",
       "    .dataframe tbody tr th {\n",
       "        vertical-align: top;\n",
       "    }\n",
       "\n",
       "    .dataframe thead th {\n",
       "        text-align: right;\n",
       "    }\n",
       "</style>\n",
       "<table border=\"1\" class=\"dataframe\">\n",
       "  <thead>\n",
       "    <tr style=\"text-align: right;\">\n",
       "      <th></th>\n",
       "      <th>location_x</th>\n",
       "      <th>location_y</th>\n",
       "      <th>distance_to_goal</th>\n",
       "    </tr>\n",
       "  </thead>\n",
       "  <tbody>\n",
       "    <tr>\n",
       "      <th>0</th>\n",
       "      <td>0</td>\n",
       "      <td>0</td>\n",
       "      <td>126.491106</td>\n",
       "    </tr>\n",
       "    <tr>\n",
       "      <th>1</th>\n",
       "      <td>1</td>\n",
       "      <td>0</td>\n",
       "      <td>125.542821</td>\n",
       "    </tr>\n",
       "    <tr>\n",
       "      <th>2</th>\n",
       "      <td>2</td>\n",
       "      <td>0</td>\n",
       "      <td>124.595345</td>\n",
       "    </tr>\n",
       "    <tr>\n",
       "      <th>3</th>\n",
       "      <td>3</td>\n",
       "      <td>0</td>\n",
       "      <td>123.648696</td>\n",
       "    </tr>\n",
       "    <tr>\n",
       "      <th>4</th>\n",
       "      <td>4</td>\n",
       "      <td>0</td>\n",
       "      <td>122.702893</td>\n",
       "    </tr>\n",
       "  </tbody>\n",
       "</table>\n",
       "</div>"
      ],
      "text/plain": [
       "   location_x  location_y  distance_to_goal\n",
       "0           0           0        126.491106\n",
       "1           1           0        125.542821\n",
       "2           2           0        124.595345\n",
       "3           3           0        123.648696\n",
       "4           4           0        122.702893"
      ]
     },
     "execution_count": 59,
     "metadata": {},
     "output_type": "execute_result"
    }
   ],
   "source": [
    "simulated_positions.head()"
   ]
  },
  {
   "cell_type": "code",
   "execution_count": 60,
   "metadata": {},
   "outputs": [
    {
     "data": {
      "text/html": [
       "<div>\n",
       "<style scoped>\n",
       "    .dataframe tbody tr th:only-of-type {\n",
       "        vertical-align: middle;\n",
       "    }\n",
       "\n",
       "    .dataframe tbody tr th {\n",
       "        vertical-align: top;\n",
       "    }\n",
       "\n",
       "    .dataframe thead th {\n",
       "        text-align: right;\n",
       "    }\n",
       "</style>\n",
       "<table border=\"1\" class=\"dataframe\">\n",
       "  <thead>\n",
       "    <tr style=\"text-align: right;\">\n",
       "      <th></th>\n",
       "      <th>location_x</th>\n",
       "      <th>location_y</th>\n",
       "      <th>distance_to_goal</th>\n",
       "    </tr>\n",
       "  </thead>\n",
       "  <tbody>\n",
       "    <tr>\n",
       "      <th>9796</th>\n",
       "      <td>116</td>\n",
       "      <td>80</td>\n",
       "      <td>40.199502</td>\n",
       "    </tr>\n",
       "    <tr>\n",
       "      <th>9797</th>\n",
       "      <td>117</td>\n",
       "      <td>80</td>\n",
       "      <td>40.112342</td>\n",
       "    </tr>\n",
       "    <tr>\n",
       "      <th>9798</th>\n",
       "      <td>118</td>\n",
       "      <td>80</td>\n",
       "      <td>40.049969</td>\n",
       "    </tr>\n",
       "    <tr>\n",
       "      <th>9799</th>\n",
       "      <td>119</td>\n",
       "      <td>80</td>\n",
       "      <td>40.012498</td>\n",
       "    </tr>\n",
       "    <tr>\n",
       "      <th>9800</th>\n",
       "      <td>120</td>\n",
       "      <td>80</td>\n",
       "      <td>40.000000</td>\n",
       "    </tr>\n",
       "  </tbody>\n",
       "</table>\n",
       "</div>"
      ],
      "text/plain": [
       "      location_x  location_y  distance_to_goal\n",
       "9796         116          80         40.199502\n",
       "9797         117          80         40.112342\n",
       "9798         118          80         40.049969\n",
       "9799         119          80         40.012498\n",
       "9800         120          80         40.000000"
      ]
     },
     "execution_count": 60,
     "metadata": {},
     "output_type": "execute_result"
    }
   ],
   "source": [
    "simulated_positions.tail()"
   ]
  },
  {
   "cell_type": "markdown",
   "metadata": {},
   "source": [
    "We predict the probability of a goal for each test observation."
   ]
  },
  {
   "cell_type": "code",
   "execution_count": 61,
   "metadata": {},
   "outputs": [],
   "source": [
    "pred_proba = model_logit.predict(simulated_positions)\n",
    "simulated_positions[\"xG\"] = pred_proba"
   ]
  },
  {
   "cell_type": "code",
   "execution_count": 65,
   "metadata": {},
   "outputs": [
    {
     "data": {
      "text/html": [
       "<div>\n",
       "<style scoped>\n",
       "    .dataframe tbody tr th:only-of-type {\n",
       "        vertical-align: middle;\n",
       "    }\n",
       "\n",
       "    .dataframe tbody tr th {\n",
       "        vertical-align: top;\n",
       "    }\n",
       "\n",
       "    .dataframe thead th {\n",
       "        text-align: right;\n",
       "    }\n",
       "</style>\n",
       "<table border=\"1\" class=\"dataframe\">\n",
       "  <thead>\n",
       "    <tr style=\"text-align: right;\">\n",
       "      <th></th>\n",
       "      <th>location_x</th>\n",
       "      <th>location_y</th>\n",
       "      <th>distance_to_goal</th>\n",
       "      <th>xG</th>\n",
       "    </tr>\n",
       "  </thead>\n",
       "  <tbody>\n",
       "    <tr>\n",
       "      <th>0</th>\n",
       "      <td>0</td>\n",
       "      <td>0</td>\n",
       "      <td>126.491106</td>\n",
       "      <td>6.795204e-08</td>\n",
       "    </tr>\n",
       "    <tr>\n",
       "      <th>1</th>\n",
       "      <td>1</td>\n",
       "      <td>0</td>\n",
       "      <td>125.542821</td>\n",
       "      <td>7.608087e-08</td>\n",
       "    </tr>\n",
       "    <tr>\n",
       "      <th>2</th>\n",
       "      <td>2</td>\n",
       "      <td>0</td>\n",
       "      <td>124.595345</td>\n",
       "      <td>8.516735e-08</td>\n",
       "    </tr>\n",
       "    <tr>\n",
       "      <th>3</th>\n",
       "      <td>3</td>\n",
       "      <td>0</td>\n",
       "      <td>123.648696</td>\n",
       "      <td>9.532215e-08</td>\n",
       "    </tr>\n",
       "    <tr>\n",
       "      <th>4</th>\n",
       "      <td>4</td>\n",
       "      <td>0</td>\n",
       "      <td>122.702893</td>\n",
       "      <td>1.066684e-07</td>\n",
       "    </tr>\n",
       "  </tbody>\n",
       "</table>\n",
       "</div>"
      ],
      "text/plain": [
       "   location_x  location_y  distance_to_goal            xG\n",
       "0           0           0        126.491106  6.795204e-08\n",
       "1           1           0        125.542821  7.608087e-08\n",
       "2           2           0        124.595345  8.516735e-08\n",
       "3           3           0        123.648696  9.532215e-08\n",
       "4           4           0        122.702893  1.066684e-07"
      ]
     },
     "execution_count": 65,
     "metadata": {},
     "output_type": "execute_result"
    }
   ],
   "source": [
    "simulated_positions.head()"
   ]
  },
  {
   "cell_type": "markdown",
   "metadata": {},
   "source": [
    "The highlight is a visualization of our xG model."
   ]
  },
  {
   "cell_type": "code",
   "execution_count": 66,
   "metadata": {},
   "outputs": [
    {
     "data": {
      "image/png": "[encoded data removed]",
      "text/plain": [
       "<Figure size 1000x800 with 1 Axes>"
      ]
     },
     "metadata": {},
     "output_type": "display_data"
    }
   ],
   "source": [
    "plt.figure(figsize=(10, 8))\n",
    "sns.scatterplot(data=simulated_positions, x=\"location_x\", y=\"location_y\", hue=\"xG\")\n",
    "plt.show()\n"
   ]
  },
  {
   "cell_type": "code",
   "execution_count": null,
   "metadata": {},
   "outputs": [],
   "source": []
  }
 ],
 "metadata": {
  "kernelspec": {
   "display_name": "pivot-env",
   "language": "python",
   "name": "python3"
  },
  "language_info": {
   "codemirror_mode": {
    "name": "ipython",
    "version": 3
   },
   "file_extension": ".py",
   "mimetype": "text/x-python",
   "name": "python",
   "nbconvert_exporter": "python",
   "pygments_lexer": "ipython3",
   "version": "3.12.1"
  },
  "orig_nbformat": 4
 },
 "nbformat": 4,
 "nbformat_minor": 2
}
