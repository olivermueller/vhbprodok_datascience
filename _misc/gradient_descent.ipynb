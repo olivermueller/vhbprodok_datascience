{
 "cells": [
  {
   "cell_type": "code",
   "execution_count": null,
   "metadata": {},
   "outputs": [],
   "source": [
    "# Import the necessary libraries\n",
    "import pandas as pd\n",
    "import numpy as np\n",
    "import statsmodels.api as sm"
   ]
  },
  {
   "cell_type": "code",
   "execution_count": null,
   "metadata": {},
   "outputs": [],
   "source": [
    "# Load data\n",
    "data = pd.read_csv(\"advertising.csv\")\n",
    "\n",
    "# Extract y and x\n",
    "y = data['Sales']\n",
    "x = data['TV']"
   ]
  },
  {
   "cell_type": "code",
   "execution_count": null,
   "metadata": {},
   "outputs": [],
   "source": [
    "# Random start values for beta0 (intercept) and beta1 (slope)\n",
    "beta0 = np.random.uniform(0, 1)\n",
    "beta1 = np.random.uniform(0, 1)\n",
    "\n",
    "# Define learning rate and maximum number of iterations of GD\n",
    "learning_rate = 0.0000001\n",
    "max_iter = 1000000"
   ]
  },
  {
   "cell_type": "code",
   "execution_count": null,
   "metadata": {},
   "outputs": [],
   "source": [
    "print(\"Initial values of beta0 and beta1: \", beta0, beta1)"
   ]
  },
  {
   "cell_type": "code",
   "execution_count": null,
   "metadata": {},
   "outputs": [],
   "source": [
    "# Perform gradient descent\n",
    "for i in range(1, max_iter+1):\n",
    "\n",
    "    # Calculate partial derivatives of loss function with respect to beta0 and beta1\n",
    "    d_beta0 = np.sum(2 * (beta0 + beta1 * x - y))\n",
    "    d_beta1 = np.sum(2 * x * (beta0 + beta1 * x - y))\n",
    "\n",
    "    # Update values of beta0 and beta1 (i.e., take a step into opposite direction of the gradient)\n",
    "    beta0_new = beta0 - learning_rate * d_beta0\n",
    "    beta1_new = beta1 - learning_rate * d_beta1\n",
    "    beta0 = beta0_new\n",
    "    beta1 = beta1_new\n",
    "\n",
    "    # Print estimates every 10000 steps\n",
    "    if i % 10000 == 0:\n",
    "        print(\"Iteration:\", i, \"|\", \"Estimated intercept:\", round(beta0, 6), \"|\", \"Estimated slope:\", round(beta1, 6))"
   ]
  },
  {
   "cell_type": "code",
   "execution_count": null,
   "metadata": {},
   "outputs": [],
   "source": [
    "# Print final estimated parameter values\n",
    "print(\"Final estimated intercept:\", round(beta0, 6), \"|\", \"Final estimated slope:\", round(beta1, 6))"
   ]
  },
  {
   "cell_type": "code",
   "execution_count": null,
   "metadata": {},
   "outputs": [],
   "source": [
    "# For comparison, let's look at the analytical solution\n",
    "x_with_intercept = sm.add_constant(x)\n",
    "ols = sm.OLS(y, x_with_intercept).fit()\n",
    "print(ols.summary())"
   ]
  }
 ],
 "metadata": {
  "kernelspec": {
   "display_name": "prodok",
   "language": "python",
   "name": "python3"
  },
  "language_info": {
   "codemirror_mode": {
    "name": "ipython",
    "version": 3
   },
   "file_extension": ".py",
   "mimetype": "text/x-python",
   "name": "python",
   "nbconvert_exporter": "python",
   "pygments_lexer": "ipython3",
   "version": "3.12.1"
  }
 },
 "nbformat": 4,
 "nbformat_minor": 2
}
