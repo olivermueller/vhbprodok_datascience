{
 "cells": [
  {
   "cell_type": "markdown",
   "metadata": {},
   "source": [
    "# Ames Housing - Auto ML\n",
    "- Author: Oliver Mueller\n",
    "- Last update: 26.01.2024"
   ]
  },
  {
   "cell_type": "markdown",
   "metadata": {},
   "source": [
    "## Initialize notebook\n",
    "Load required packages. Set up workspace, e.g., set theme for plotting and initialize the random number generator."
   ]
  },
  {
   "cell_type": "code",
   "execution_count": 17,
   "metadata": {},
   "outputs": [],
   "source": [
    "import warnings\n",
    "warnings.simplefilter('ignore')\n",
    "\n",
    "import numpy as np\n",
    "import pandas as pd\n",
    "from matplotlib import pyplot as plt\n",
    "import seaborn as sns\n",
    "\n",
    "from sklearn.model_selection import train_test_split\n",
    "\n",
    "import h2o\n",
    "from h2o.automl import H2OAutoML"
   ]
  },
  {
   "cell_type": "code",
   "execution_count": 18,
   "metadata": {},
   "outputs": [],
   "source": [
    "plt.style.use('fivethirtyeight')"
   ]
  },
  {
   "cell_type": "markdown",
   "metadata": {},
   "source": [
    "## Problem description\n",
    "\n",
    "Ask a home buyer to describe their dream house, and they probably won't begin with the height of the basement ceiling or the proximity to an east-west railroad. But this dataset proves that much more influences price negotiations than the number of bedrooms or a white-picket fence. With 76 explanatory variables describing (almost) every aspect of residential homes in Ames, Iowa, this dataset challenges you to predict the final price of each home. More: <https://www.kaggle.com/c/house-prices-advanced-regression-techniques>\n"
   ]
  },
  {
   "cell_type": "markdown",
   "metadata": {},
   "source": [
    "## AutoML with H20"
   ]
  },
  {
   "cell_type": "markdown",
   "metadata": {},
   "source": [
    "H2O is usually executed on a server. Here, we emulate the server on the local machine. The server is started with the `h2o.init()` command. The server is stopped with the `h2o.shutdown()` command."
   ]
  },
  {
   "cell_type": "code",
   "execution_count": 23,
   "metadata": {},
   "outputs": [
    {
     "name": "stdout",
     "output_type": "stream",
     "text": [
      "Checking whether there is an H2O instance running at http://localhost:54321..... not found.\n",
      "Attempting to start a local H2O server...\n",
      "  Java Version: java version \"1.8.0_381\"; Java(TM) SE Runtime Environment (build 1.8.0_381-b09); Java HotSpot(TM) 64-Bit Server VM (build 25.381-b09, mixed mode)\n",
      "  Starting server from /Users/oliver/miniconda3/envs/prodok/lib/python3.12/site-packages/h2o/backend/bin/h2o.jar\n",
      "  Ice root: /var/folders/4d/0rd3mwcn4y7gv39shh0dy_0w0000gn/T/tmp74eywmn0\n",
      "  JVM stdout: /var/folders/4d/0rd3mwcn4y7gv39shh0dy_0w0000gn/T/tmp74eywmn0/h2o_oliver_started_from_python.out\n",
      "  JVM stderr: /var/folders/4d/0rd3mwcn4y7gv39shh0dy_0w0000gn/T/tmp74eywmn0/h2o_oliver_started_from_python.err\n",
      "  Server is running at http://127.0.0.1:54321\n",
      "Connecting to H2O server at http://127.0.0.1:54321 ... successful.\n"
     ]
    },
    {
     "data": {
      "text/html": [
       "\n",
       "<style>\n",
       "\n",
       "#h2o-table-1.h2o-container {\n",
       "  overflow-x: auto;\n",
       "}\n",
       "#h2o-table-1 .h2o-table {\n",
       "  /* width: 100%; */\n",
       "  margin-top: 1em;\n",
       "  margin-bottom: 1em;\n",
       "}\n",
       "#h2o-table-1 .h2o-table caption {\n",
       "  white-space: nowrap;\n",
       "  caption-side: top;\n",
       "  text-align: left;\n",
       "  /* margin-left: 1em; */\n",
       "  margin: 0;\n",
       "  font-size: larger;\n",
       "}\n",
       "#h2o-table-1 .h2o-table thead {\n",
       "  white-space: nowrap; \n",
       "  position: sticky;\n",
       "  top: 0;\n",
       "  box-shadow: 0 -1px inset;\n",
       "}\n",
       "#h2o-table-1 .h2o-table tbody {\n",
       "  overflow: auto;\n",
       "}\n",
       "#h2o-table-1 .h2o-table th,\n",
       "#h2o-table-1 .h2o-table td {\n",
       "  text-align: right;\n",
       "  /* border: 1px solid; */\n",
       "}\n",
       "#h2o-table-1 .h2o-table tr:nth-child(even) {\n",
       "  /* background: #F5F5F5 */\n",
       "}\n",
       "\n",
       "</style>      \n",
       "<div id=\"h2o-table-1\" class=\"h2o-container\">\n",
       "  <table class=\"h2o-table\">\n",
       "    <caption></caption>\n",
       "    <thead></thead>\n",
       "    <tbody><tr><td>H2O_cluster_uptime:</td>\n",
       "<td>03 secs</td></tr>\n",
       "<tr><td>H2O_cluster_timezone:</td>\n",
       "<td>Europe/Berlin</td></tr>\n",
       "<tr><td>H2O_data_parsing_timezone:</td>\n",
       "<td>UTC</td></tr>\n",
       "<tr><td>H2O_cluster_version:</td>\n",
       "<td>3.44.0.3</td></tr>\n",
       "<tr><td>H2O_cluster_version_age:</td>\n",
       "<td>1 month and 22 days</td></tr>\n",
       "<tr><td>H2O_cluster_name:</td>\n",
       "<td>H2O_from_python_oliver_taccox</td></tr>\n",
       "<tr><td>H2O_cluster_total_nodes:</td>\n",
       "<td>1</td></tr>\n",
       "<tr><td>H2O_cluster_free_memory:</td>\n",
       "<td>3.540 Gb</td></tr>\n",
       "<tr><td>H2O_cluster_total_cores:</td>\n",
       "<td>8</td></tr>\n",
       "<tr><td>H2O_cluster_allowed_cores:</td>\n",
       "<td>8</td></tr>\n",
       "<tr><td>H2O_cluster_status:</td>\n",
       "<td>locked, healthy</td></tr>\n",
       "<tr><td>H2O_connection_url:</td>\n",
       "<td>http://127.0.0.1:54321</td></tr>\n",
       "<tr><td>H2O_connection_proxy:</td>\n",
       "<td>{\"http\": null, \"https\": null}</td></tr>\n",
       "<tr><td>H2O_internal_security:</td>\n",
       "<td>False</td></tr>\n",
       "<tr><td>Python_version:</td>\n",
       "<td>3.12.1 final</td></tr></tbody>\n",
       "  </table>\n",
       "</div>\n"
      ],
      "text/plain": [
       "--------------------------  -----------------------------\n",
       "H2O_cluster_uptime:         03 secs\n",
       "H2O_cluster_timezone:       Europe/Berlin\n",
       "H2O_data_parsing_timezone:  UTC\n",
       "H2O_cluster_version:        3.44.0.3\n",
       "H2O_cluster_version_age:    1 month and 22 days\n",
       "H2O_cluster_name:           H2O_from_python_oliver_taccox\n",
       "H2O_cluster_total_nodes:    1\n",
       "H2O_cluster_free_memory:    3.540 Gb\n",
       "H2O_cluster_total_cores:    8\n",
       "H2O_cluster_allowed_cores:  8\n",
       "H2O_cluster_status:         locked, healthy\n",
       "H2O_connection_url:         http://127.0.0.1:54321\n",
       "H2O_connection_proxy:       {\"http\": null, \"https\": null}\n",
       "H2O_internal_security:      False\n",
       "Python_version:             3.12.1 final\n",
       "--------------------------  -----------------------------"
      ]
     },
     "metadata": {},
     "output_type": "display_data"
    }
   ],
   "source": [
    "h2o.init()"
   ]
  },
  {
   "cell_type": "markdown",
   "metadata": {},
   "source": [
    "### Load and prepare data"
   ]
  },
  {
   "cell_type": "markdown",
   "metadata": {},
   "source": [
    "Next, we have to \"upload\" the data to the server. The data is loaded with the `h2o.import_file()` command."
   ]
  },
  {
   "cell_type": "code",
   "execution_count": 73,
   "metadata": {},
   "outputs": [
    {
     "name": "stdout",
     "output_type": "stream",
     "text": [
      "Parse progress: |████████████████████████████████████████████████████████████████| (done) 100%\n"
     ]
    }
   ],
   "source": [
    "df = h2o.import_file('data/train.csv')"
   ]
  },
  {
   "cell_type": "code",
   "execution_count": 74,
   "metadata": {},
   "outputs": [
    {
     "data": {
      "text/html": [
       "<pre style='margin: 1em 0 1em 0;'>Rows:2344\n",
       "Cols:78\n",
       "</pre>"
      ],
      "text/plain": [
       "Rows:2344\n",
       "Cols:78\n"
      ]
     },
     "metadata": {},
     "output_type": "display_data"
    },
    {
     "data": {
      "text/html": [
       "<table class='dataframe'>\n",
       "<thead>\n",
       "<tr><th>       </th><th>house_id         </th><th>MSSubClass       </th><th>MSZoning  </th><th>LotFrontage      </th><th>LotArea           </th><th>Street  </th><th>Alley  </th><th>LotShape  </th><th>LandContour  </th><th>Utilities  </th><th>LotConfig  </th><th>LandSlope  </th><th>Neighborhood  </th><th>Condition1  </th><th>Condition2  </th><th>BldgType  </th><th>HouseStyle  </th><th>OverallQual       </th><th>OverallCond      </th><th>YearBuilt         </th><th>YearRemodAdd      </th><th>RoofStyle  </th><th>RoofMatl  </th><th>Exterior1st  </th><th>Exterior2nd  </th><th>MasVnrType  </th><th>MasVnrArea        </th><th>ExterQual  </th><th>ExterCond  </th><th>Foundation  </th><th>BsmtQual  </th><th>BsmtCond  </th><th>BsmtExposure  </th><th>BsmtFinType1  </th><th>BsmtFinSF1        </th><th>BsmtFinType2  </th><th>BsmtFinSF2        </th><th>BsmtUnfSF        </th><th>TotalBsmtSF       </th><th>Heating  </th><th>HeatingQC  </th><th>CentralAir  </th><th>Electrical  </th><th>FirstFlrSF        </th><th>SecondFlrSF       </th><th>LowQualFinSF      </th><th>GrLivArea         </th><th>BsmtFullBath       </th><th>BsmtHalfBath       </th><th>FullBath          </th><th>HalfBath           </th><th>BedroomAbvGr      </th><th>KitchenAbvGr       </th><th>KitchenQual  </th><th>TotRmsAbvGrd     </th><th>Functional  </th><th>Fireplaces        </th><th>FireplaceQu  </th><th>GarageType  </th><th>GarageFinish  </th><th>GarageCars        </th><th>GarageArea       </th><th>GarageQual  </th><th>GarageCond  </th><th>PavedDrive  </th><th>WoodDeckSF        </th><th>OpenPorchSF      </th><th>EnclosedPorch    </th><th>ThreeSsnPorch     </th><th>ScreenPorch       </th><th>PoolArea          </th><th>Fence  </th><th>MiscVal           </th><th>MoSold           </th><th>YrSold            </th><th>SaleType  </th><th>SaleCondition  </th><th>SalePrice         </th></tr>\n",
       "</thead>\n",
       "<tbody>\n",
       "<tr><td>type   </td><td>int              </td><td>int              </td><td>enum      </td><td>int              </td><td>int               </td><td>enum    </td><td>enum   </td><td>enum      </td><td>enum         </td><td>enum       </td><td>enum       </td><td>enum       </td><td>enum          </td><td>enum        </td><td>enum        </td><td>enum      </td><td>enum        </td><td>int               </td><td>int              </td><td>int               </td><td>int               </td><td>enum       </td><td>enum      </td><td>enum         </td><td>enum         </td><td>enum        </td><td>int               </td><td>enum       </td><td>enum       </td><td>enum        </td><td>enum      </td><td>enum      </td><td>enum          </td><td>enum          </td><td>int               </td><td>enum          </td><td>int               </td><td>int              </td><td>int               </td><td>enum     </td><td>enum       </td><td>enum        </td><td>enum        </td><td>int               </td><td>int               </td><td>int               </td><td>int               </td><td>int                </td><td>int                </td><td>int               </td><td>int                </td><td>int               </td><td>int                </td><td>enum         </td><td>int              </td><td>enum        </td><td>int               </td><td>enum         </td><td>enum        </td><td>enum          </td><td>int               </td><td>int              </td><td>enum        </td><td>enum        </td><td>enum        </td><td>int               </td><td>int              </td><td>int              </td><td>int               </td><td>int               </td><td>int               </td><td>enum   </td><td>int               </td><td>int              </td><td>int               </td><td>enum      </td><td>enum           </td><td>int               </td></tr>\n",
       "<tr><td>mins   </td><td>1.0              </td><td>20.0             </td><td>          </td><td>0.0              </td><td>1300.0            </td><td>        </td><td>       </td><td>          </td><td>             </td><td>           </td><td>           </td><td>           </td><td>              </td><td>            </td><td>            </td><td>          </td><td>            </td><td>1.0               </td><td>1.0              </td><td>1872.0            </td><td>1950.0            </td><td>           </td><td>          </td><td>             </td><td>             </td><td>            </td><td>0.0               </td><td>           </td><td>           </td><td>            </td><td>          </td><td>          </td><td>              </td><td>              </td><td>0.0               </td><td>              </td><td>0.0               </td><td>0.0              </td><td>0.0               </td><td>         </td><td>           </td><td>            </td><td>            </td><td>334.0             </td><td>0.0               </td><td>0.0               </td><td>334.0             </td><td>0.0                </td><td>0.0                </td><td>0.0               </td><td>0.0                </td><td>0.0               </td><td>0.0                </td><td>             </td><td>2.0              </td><td>            </td><td>0.0               </td><td>             </td><td>            </td><td>              </td><td>0.0               </td><td>0.0              </td><td>            </td><td>            </td><td>            </td><td>0.0               </td><td>0.0              </td><td>0.0              </td><td>0.0               </td><td>0.0               </td><td>0.0               </td><td>       </td><td>0.0               </td><td>1.0              </td><td>2006.0            </td><td>          </td><td>               </td><td>12789.0           </td></tr>\n",
       "<tr><td>mean   </td><td>1172.5           </td><td>57.3080204778157 </td><td>          </td><td>57.60409556313993</td><td>10127.857508532423</td><td>        </td><td>       </td><td>          </td><td>             </td><td>           </td><td>           </td><td>           </td><td>              </td><td>            </td><td>            </td><td>          </td><td>            </td><td>6.064419795221843 </td><td>5.581911262798636</td><td>1970.5068259385666</td><td>1983.9236348122868</td><td>           </td><td>          </td><td>             </td><td>             </td><td>            </td><td>97.74104095563139 </td><td>           </td><td>           </td><td>            </td><td>          </td><td>          </td><td>              </td><td>              </td><td>442.3425767918089 </td><td>              </td><td>50.0759385665529  </td><td>554.1569965870307</td><td>1046.5755119453925</td><td>         </td><td>           </td><td>            </td><td>            </td><td>1154.8144197952217</td><td>333.68813993174064</td><td>4.3570819112627985</td><td>1492.8596416382252</td><td>0.43131399317406144</td><td>0.05930034129692833</td><td>1.5571672354948805</td><td>0.37073378839590443</td><td>2.845136518771331 </td><td>1.043088737201365  </td><td>             </td><td>6.409129692832765</td><td>            </td><td>0.5989761092150171</td><td>             </td><td>            </td><td>              </td><td>1.746160409556314 </td><td>468.8788395904437</td><td>            </td><td>            </td><td>            </td><td>94.11305460750853 </td><td>47.34172354948805</td><td>24.73165529010239</td><td>2.42278156996587  </td><td>16.01023890784983 </td><td>2.582764505119454 </td><td>       </td><td>58.055034129692835</td><td>6.184726962457338</td><td>2007.794795221843 </td><td>          </td><td>               </td><td>178582.20776450512</td></tr>\n",
       "<tr><td>maxs   </td><td>2344.0           </td><td>190.0            </td><td>          </td><td>313.0            </td><td>215245.0          </td><td>        </td><td>       </td><td>          </td><td>             </td><td>           </td><td>           </td><td>           </td><td>              </td><td>            </td><td>            </td><td>          </td><td>            </td><td>10.0              </td><td>9.0              </td><td>2010.0            </td><td>2010.0            </td><td>           </td><td>          </td><td>             </td><td>             </td><td>            </td><td>1290.0            </td><td>           </td><td>           </td><td>            </td><td>          </td><td>          </td><td>              </td><td>              </td><td>5644.0            </td><td>              </td><td>1526.0            </td><td>2336.0           </td><td>6110.0            </td><td>         </td><td>           </td><td>            </td><td>            </td><td>5095.0            </td><td>2065.0            </td><td>1064.0            </td><td>5642.0            </td><td>3.0                </td><td>2.0                </td><td>4.0               </td><td>2.0                </td><td>8.0               </td><td>3.0                </td><td>             </td><td>15.0             </td><td>            </td><td>4.0               </td><td>             </td><td>            </td><td>              </td><td>4.0               </td><td>1488.0           </td><td>            </td><td>            </td><td>            </td><td>870.0             </td><td>742.0            </td><td>1012.0           </td><td>508.0             </td><td>576.0             </td><td>800.0             </td><td>       </td><td>17000.0           </td><td>12.0             </td><td>2010.0            </td><td>          </td><td>               </td><td>755000.0          </td></tr>\n",
       "<tr><td>sigma  </td><td>676.7988376664566</td><td>42.80255520479277</td><td>          </td><td>33.54268403124423</td><td>8050.9081315860585</td><td>        </td><td>       </td><td>          </td><td>             </td><td>           </td><td>           </td><td>           </td><td>              </td><td>            </td><td>            </td><td>          </td><td>            </td><td>1.3885195724365862</td><td>1.105658637771616</td><td>30.341433709809888</td><td>20.786286586191313</td><td>           </td><td>          </td><td>             </td><td>             </td><td>            </td><td>171.76682948029887</td><td>           </td><td>           </td><td>            </td><td>          </td><td>          </td><td>              </td><td>              </td><td>452.21909238372723</td><td>              </td><td>170.36377498493337</td><td>433.8468953028434</td><td>437.009368882394  </td><td>         </td><td>           </td><td>            </td><td>            </td><td>385.11426946187606</td><td>427.1411905726988 </td><td>44.32399300764559 </td><td>504.6196755936108 </td><td>0.525468127735148  </td><td>0.24159561045811204</td><td>0.5521616197346733</td><td>0.49960818531350026</td><td>0.8203516095298484</td><td>0.21133887922134537</td><td>             </td><td>1.563650890639959</td><td>            </td><td>0.6529873381551253</td><td>             </td><td>            </td><td>              </td><td>0.7471572083696859</td><td>212.6083240164343</td><td>            </td><td>            </td><td>            </td><td>124.85186961842751</td><td>68.0374645088839 </td><td>67.03094313263323</td><td>24.524361606192276</td><td>55.820882046949514</td><td>38.324144514778006</td><td>       </td><td>623.3751214138194 </td><td>2.708407833789809</td><td>1.3151172158333897</td><td>          </td><td>               </td><td>77125.07271273079 </td></tr>\n",
       "<tr><td>zeros  </td><td>0                </td><td>0                </td><td>          </td><td>393              </td><td>0                 </td><td>        </td><td>       </td><td>          </td><td>             </td><td>           </td><td>           </td><td>           </td><td>              </td><td>            </td><td>            </td><td>          </td><td>            </td><td>0                 </td><td>0                </td><td>0                 </td><td>0                 </td><td>           </td><td>          </td><td>             </td><td>             </td><td>            </td><td>1422              </td><td>           </td><td>           </td><td>            </td><td>          </td><td>          </td><td>              </td><td>              </td><td>738               </td><td>              </td><td>2059              </td><td>196              </td><td>61                </td><td>         </td><td>           </td><td>            </td><td>            </td><td>0                 </td><td>1346              </td><td>2313              </td><td>0                 </td><td>1367               </td><td>2208               </td><td>10                </td><td>1494               </td><td>5                 </td><td>2                  </td><td>             </td><td>0                </td><td>            </td><td>1144              </td><td>             </td><td>            </td><td>              </td><td>121               </td><td>121              </td><td>            </td><td>            </td><td>            </td><td>1215              </td><td>1048             </td><td>1956             </td><td>2316              </td><td>2139              </td><td>2332              </td><td>       </td><td>2253              </td><td>0                </td><td>0                 </td><td>          </td><td>               </td><td>0                 </td></tr>\n",
       "<tr><td>missing</td><td>0                </td><td>0                </td><td>0         </td><td>0                </td><td>0                 </td><td>0       </td><td>0      </td><td>0         </td><td>0            </td><td>0          </td><td>0          </td><td>0          </td><td>0             </td><td>0           </td><td>0           </td><td>0         </td><td>0           </td><td>0                 </td><td>0                </td><td>0                 </td><td>0                 </td><td>0          </td><td>0         </td><td>0            </td><td>0            </td><td>0           </td><td>0                 </td><td>0          </td><td>0          </td><td>0           </td><td>0         </td><td>0         </td><td>0             </td><td>0             </td><td>0                 </td><td>0             </td><td>0                 </td><td>0                </td><td>0                 </td><td>0        </td><td>0          </td><td>0           </td><td>0           </td><td>0                 </td><td>0                 </td><td>0                 </td><td>0                 </td><td>0                  </td><td>0                  </td><td>0                 </td><td>0                  </td><td>0                 </td><td>0                  </td><td>0            </td><td>0                </td><td>0           </td><td>0                 </td><td>0            </td><td>0           </td><td>0             </td><td>0                 </td><td>0                </td><td>0           </td><td>0           </td><td>0           </td><td>0                 </td><td>0                </td><td>0                </td><td>0                 </td><td>0                 </td><td>0                 </td><td>0      </td><td>0                 </td><td>0                </td><td>0                 </td><td>0         </td><td>0              </td><td>0                 </td></tr>\n",
       "<tr><td>0      </td><td>1.0              </td><td>20.0             </td><td>RL        </td><td>80.0             </td><td>10400.0           </td><td>Pave    </td><td>none   </td><td>Reg       </td><td>Lvl          </td><td>AllPub     </td><td>Inside     </td><td>Gtl        </td><td>NWAmes        </td><td>Norm        </td><td>Norm        </td><td>1Fam      </td><td>1Story      </td><td>7.0               </td><td>5.0              </td><td>1976.0            </td><td>1976.0            </td><td>Gable      </td><td>CompShg   </td><td>HdBoard      </td><td>HdBoard      </td><td>BrkFace     </td><td>189.0             </td><td>TA         </td><td>TA         </td><td>CBlock      </td><td>Gd        </td><td>TA        </td><td>No            </td><td>Unf           </td><td>0.0               </td><td>Unf           </td><td>0.0               </td><td>1090.0           </td><td>1090.0            </td><td>GasA     </td><td>TA         </td><td>Y           </td><td>SBrkr       </td><td>1370.0            </td><td>0.0               </td><td>0.0               </td><td>1370.0            </td><td>0.0                </td><td>0.0                </td><td>2.0               </td><td>0.0                </td><td>3.0               </td><td>1.0                </td><td>TA           </td><td>6.0              </td><td>Typ         </td><td>1.0               </td><td>TA           </td><td>Attchd      </td><td>RFn           </td><td>2.0               </td><td>479.0            </td><td>TA          </td><td>TA          </td><td>Y           </td><td>0.0               </td><td>0.0              </td><td>0.0              </td><td>0.0               </td><td>0.0               </td><td>0.0               </td><td>MnPrv  </td><td>0.0               </td><td>6.0              </td><td>2009.0            </td><td>WD        </td><td>Family         </td><td>152000.0          </td></tr>\n",
       "<tr><td>1      </td><td>2.0              </td><td>60.0             </td><td>RL        </td><td>0.0              </td><td>28698.0           </td><td>Pave    </td><td>none   </td><td>IR2       </td><td>Low          </td><td>AllPub     </td><td>CulDSac    </td><td>Sev        </td><td>ClearCr       </td><td>Norm        </td><td>Norm        </td><td>1Fam      </td><td>2Story      </td><td>5.0               </td><td>5.0              </td><td>1967.0            </td><td>1967.0            </td><td>Flat       </td><td>Tar&amp;Grv   </td><td>Plywood      </td><td>Plywood      </td><td>None        </td><td>0.0               </td><td>TA         </td><td>TA         </td><td>PConc       </td><td>TA        </td><td>Gd        </td><td>Gd            </td><td>LwQ           </td><td>249.0             </td><td>ALQ           </td><td>764.0             </td><td>0.0              </td><td>1013.0            </td><td>GasA     </td><td>TA         </td><td>Y           </td><td>SBrkr       </td><td>1160.0            </td><td>966.0             </td><td>0.0               </td><td>2126.0            </td><td>0.0                </td><td>1.0                </td><td>2.0               </td><td>1.0                </td><td>3.0               </td><td>1.0                </td><td>TA           </td><td>7.0              </td><td>Min2        </td><td>0.0               </td><td>none         </td><td>Attchd      </td><td>Fin           </td><td>2.0               </td><td>538.0            </td><td>TA          </td><td>TA          </td><td>Y           </td><td>486.0             </td><td>0.0              </td><td>0.0              </td><td>0.0               </td><td>225.0             </td><td>0.0               </td><td>none   </td><td>0.0               </td><td>6.0              </td><td>2009.0            </td><td>WD        </td><td>Abnorml        </td><td>185000.0          </td></tr>\n",
       "<tr><td>2      </td><td>3.0              </td><td>90.0             </td><td>RL        </td><td>70.0             </td><td>9842.0            </td><td>Pave    </td><td>none   </td><td>Reg       </td><td>Lvl          </td><td>AllPub     </td><td>FR2        </td><td>Gtl        </td><td>NAmes         </td><td>Norm        </td><td>Norm        </td><td>Duplex    </td><td>1Story      </td><td>4.0               </td><td>5.0              </td><td>1962.0            </td><td>1962.0            </td><td>Gable      </td><td>CompShg   </td><td>HdBoard      </td><td>HdBoard      </td><td>None        </td><td>0.0               </td><td>TA         </td><td>TA         </td><td>Slab        </td><td>none      </td><td>none      </td><td>none          </td><td>none          </td><td>0.0               </td><td>none          </td><td>0.0               </td><td>0.0              </td><td>0.0               </td><td>GasA     </td><td>TA         </td><td>Y           </td><td>SBrkr       </td><td>1224.0            </td><td>0.0               </td><td>0.0               </td><td>1224.0            </td><td>0.0                </td><td>0.0                </td><td>2.0               </td><td>0.0                </td><td>2.0               </td><td>2.0                </td><td>TA           </td><td>6.0              </td><td>Typ         </td><td>0.0               </td><td>none         </td><td>CarPort     </td><td>Unf           </td><td>2.0               </td><td>462.0            </td><td>TA          </td><td>TA          </td><td>Y           </td><td>0.0               </td><td>0.0              </td><td>0.0              </td><td>0.0               </td><td>0.0               </td><td>0.0               </td><td>none   </td><td>0.0               </td><td>3.0              </td><td>2007.0            </td><td>WD        </td><td>Normal         </td><td>101800.0          </td></tr>\n",
       "<tr><td>3      </td><td>4.0              </td><td>90.0             </td><td>RL        </td><td>60.0             </td><td>7200.0            </td><td>Pave    </td><td>none   </td><td>Reg       </td><td>Lvl          </td><td>AllPub     </td><td>Inside     </td><td>Gtl        </td><td>NAmes         </td><td>Norm        </td><td>Norm        </td><td>Duplex    </td><td>1Story      </td><td>4.0               </td><td>5.0              </td><td>1949.0            </td><td>1950.0            </td><td>Gable      </td><td>CompShg   </td><td>BrkFace      </td><td>Stone        </td><td>None        </td><td>0.0               </td><td>TA         </td><td>TA         </td><td>Slab        </td><td>none      </td><td>none      </td><td>none          </td><td>none          </td><td>0.0               </td><td>none          </td><td>0.0               </td><td>0.0              </td><td>0.0               </td><td>Wall     </td><td>Fa         </td><td>N           </td><td>FuseF       </td><td>1040.0            </td><td>0.0               </td><td>0.0               </td><td>1040.0            </td><td>0.0                </td><td>0.0                </td><td>2.0               </td><td>0.0                </td><td>2.0               </td><td>2.0                </td><td>TA           </td><td>6.0              </td><td>Typ         </td><td>0.0               </td><td>none         </td><td>Detchd      </td><td>Unf           </td><td>2.0               </td><td>420.0            </td><td>TA          </td><td>TA          </td><td>Y           </td><td>0.0               </td><td>0.0              </td><td>0.0              </td><td>0.0               </td><td>0.0               </td><td>0.0               </td><td>none   </td><td>0.0               </td><td>6.0              </td><td>2009.0            </td><td>WD        </td><td>Normal         </td><td>90000.0           </td></tr>\n",
       "<tr><td>4      </td><td>5.0              </td><td>190.0            </td><td>RM        </td><td>63.0             </td><td>7627.0            </td><td>Pave    </td><td>none   </td><td>Reg       </td><td>Lvl          </td><td>AllPub     </td><td>Corner     </td><td>Gtl        </td><td>OldTown       </td><td>Artery      </td><td>Norm        </td><td>2fmCon    </td><td>2Story      </td><td>4.0               </td><td>6.0              </td><td>1920.0            </td><td>1950.0            </td><td>Gable      </td><td>CompShg   </td><td>AsbShng      </td><td>AsbShng      </td><td>None        </td><td>0.0               </td><td>Fa         </td><td>TA         </td><td>BrkTil      </td><td>Fa        </td><td>Po        </td><td>No            </td><td>Unf           </td><td>0.0               </td><td>Unf           </td><td>0.0               </td><td>600.0            </td><td>600.0             </td><td>GasA     </td><td>Gd         </td><td>N           </td><td>SBrkr       </td><td>1101.0            </td><td>600.0             </td><td>0.0               </td><td>1701.0            </td><td>0.0                </td><td>0.0                </td><td>2.0               </td><td>0.0                </td><td>4.0               </td><td>2.0                </td><td>Fa           </td><td>8.0              </td><td>Typ         </td><td>0.0               </td><td>none         </td><td>none        </td><td>none          </td><td>0.0               </td><td>0.0              </td><td>none        </td><td>none        </td><td>N           </td><td>0.0               </td><td>0.0              </td><td>148.0            </td><td>0.0               </td><td>0.0               </td><td>0.0               </td><td>none   </td><td>0.0               </td><td>10.0             </td><td>2009.0            </td><td>WD        </td><td>Normal         </td><td>94550.0           </td></tr>\n",
       "<tr><td>5      </td><td>6.0              </td><td>60.0             </td><td>RL        </td><td>97.0             </td><td>10029.0           </td><td>Pave    </td><td>none   </td><td>IR1       </td><td>Lvl          </td><td>AllPub     </td><td>Corner     </td><td>Gtl        </td><td>ClearCr       </td><td>Norm        </td><td>Norm        </td><td>1Fam      </td><td>2Story      </td><td>6.0               </td><td>5.0              </td><td>1988.0            </td><td>1989.0            </td><td>Gable      </td><td>CompShg   </td><td>Plywood      </td><td>Plywood      </td><td>BrkFace     </td><td>268.0             </td><td>Gd         </td><td>TA         </td><td>PConc       </td><td>Gd        </td><td>TA        </td><td>No            </td><td>GLQ           </td><td>831.0             </td><td>Unf           </td><td>0.0               </td><td>320.0            </td><td>1151.0            </td><td>GasA     </td><td>TA         </td><td>Y           </td><td>SBrkr       </td><td>1164.0            </td><td>896.0             </td><td>0.0               </td><td>2060.0            </td><td>0.0                </td><td>1.0                </td><td>2.0               </td><td>1.0                </td><td>4.0               </td><td>1.0                </td><td>TA           </td><td>8.0              </td><td>Typ         </td><td>1.0               </td><td>TA           </td><td>Attchd      </td><td>Unf           </td><td>2.0               </td><td>521.0            </td><td>TA          </td><td>TA          </td><td>Y           </td><td>0.0               </td><td>228.0            </td><td>0.0              </td><td>0.0               </td><td>192.0             </td><td>0.0               </td><td>none   </td><td>0.0               </td><td>9.0              </td><td>2007.0            </td><td>WD        </td><td>Normal         </td><td>211000.0          </td></tr>\n",
       "<tr><td>6      </td><td>7.0              </td><td>60.0             </td><td>RL        </td><td>84.0             </td><td>9660.0            </td><td>Pave    </td><td>none   </td><td>IR1       </td><td>Lvl          </td><td>AllPub     </td><td>Inside     </td><td>Gtl        </td><td>NoRidge       </td><td>Norm        </td><td>Norm        </td><td>1Fam      </td><td>2Story      </td><td>8.0               </td><td>5.0              </td><td>1998.0            </td><td>1998.0            </td><td>Gable      </td><td>CompShg   </td><td>VinylSd      </td><td>VinylSd      </td><td>BrkFace     </td><td>242.0             </td><td>Gd         </td><td>TA         </td><td>PConc       </td><td>Gd        </td><td>TA        </td><td>No            </td><td>GLQ           </td><td>791.0             </td><td>Unf           </td><td>0.0               </td><td>253.0            </td><td>1044.0            </td><td>GasA     </td><td>Ex         </td><td>Y           </td><td>SBrkr       </td><td>1079.0            </td><td>897.0             </td><td>0.0               </td><td>1976.0            </td><td>1.0                </td><td>0.0                </td><td>2.0               </td><td>1.0                </td><td>3.0               </td><td>1.0                </td><td>Gd           </td><td>7.0              </td><td>Typ         </td><td>1.0               </td><td>Ex           </td><td>Attchd      </td><td>Fin           </td><td>3.0               </td><td>885.0            </td><td>TA          </td><td>TA          </td><td>Y           </td><td>210.0             </td><td>31.0             </td><td>0.0              </td><td>0.0               </td><td>0.0               </td><td>0.0               </td><td>none   </td><td>0.0               </td><td>2.0              </td><td>2006.0            </td><td>WD        </td><td>Normal         </td><td>286000.0          </td></tr>\n",
       "<tr><td>7      </td><td>8.0              </td><td>20.0             </td><td>RL        </td><td>75.0             </td><td>11310.0           </td><td>Pave    </td><td>none   </td><td>Reg       </td><td>Lvl          </td><td>AllPub     </td><td>Inside     </td><td>Gtl        </td><td>NAmes         </td><td>Norm        </td><td>Norm        </td><td>1Fam      </td><td>1Story      </td><td>6.0               </td><td>5.0              </td><td>1954.0            </td><td>1954.0            </td><td>Hip        </td><td>CompShg   </td><td>WdSdng       </td><td>BrkFace      </td><td>None        </td><td>0.0               </td><td>TA         </td><td>TA         </td><td>CBlock      </td><td>TA        </td><td>TA        </td><td>No            </td><td>Unf           </td><td>0.0               </td><td>Unf           </td><td>0.0               </td><td>1367.0           </td><td>1367.0            </td><td>GasA     </td><td>Ex         </td><td>Y           </td><td>SBrkr       </td><td>1375.0            </td><td>0.0               </td><td>0.0               </td><td>1375.0            </td><td>0.0                </td><td>0.0                </td><td>1.0               </td><td>0.0                </td><td>2.0               </td><td>1.0                </td><td>TA           </td><td>5.0              </td><td>Typ         </td><td>1.0               </td><td>TA           </td><td>Attchd      </td><td>Unf           </td><td>2.0               </td><td>451.0            </td><td>TA          </td><td>TA          </td><td>Y           </td><td>0.0               </td><td>30.0             </td><td>0.0              </td><td>0.0               </td><td>0.0               </td><td>0.0               </td><td>none   </td><td>0.0               </td><td>6.0              </td><td>2006.0            </td><td>WD        </td><td>Normal         </td><td>140000.0          </td></tr>\n",
       "<tr><td>8      </td><td>9.0              </td><td>60.0             </td><td>RL        </td><td>0.0              </td><td>18450.0           </td><td>Pave    </td><td>none   </td><td>IR1       </td><td>Lvl          </td><td>AllPub     </td><td>Inside     </td><td>Gtl        </td><td>NAmes         </td><td>Norm        </td><td>Norm        </td><td>1Fam      </td><td>2Story      </td><td>6.0               </td><td>5.0              </td><td>1965.0            </td><td>1979.0            </td><td>Flat       </td><td>Tar&amp;Grv   </td><td>Plywood      </td><td>Plywood      </td><td>BrkCmn      </td><td>113.0             </td><td>TA         </td><td>Gd         </td><td>CBlock      </td><td>Gd        </td><td>TA        </td><td>No            </td><td>LwQ           </td><td>187.0             </td><td>Rec           </td><td>723.0             </td><td>111.0            </td><td>1021.0            </td><td>GasA     </td><td>TA         </td><td>Y           </td><td>SBrkr       </td><td>1465.0            </td><td>915.0             </td><td>0.0               </td><td>2380.0            </td><td>0.0                </td><td>0.0                </td><td>2.0               </td><td>1.0                </td><td>3.0               </td><td>1.0                </td><td>TA           </td><td>7.0              </td><td>Sev         </td><td>1.0               </td><td>Po           </td><td>CarPort     </td><td>Unf           </td><td>2.0               </td><td>596.0            </td><td>TA          </td><td>TA          </td><td>Y           </td><td>0.0               </td><td>265.0            </td><td>0.0              </td><td>0.0               </td><td>0.0               </td><td>0.0               </td><td>none   </td><td>0.0               </td><td>8.0              </td><td>2007.0            </td><td>WD        </td><td>Abnorml        </td><td>129000.0          </td></tr>\n",
       "<tr><td>9      </td><td>10.0             </td><td>20.0             </td><td>RL        </td><td>85.0             </td><td>10200.0           </td><td>Pave    </td><td>none   </td><td>Reg       </td><td>Lvl          </td><td>AllPub     </td><td>Inside     </td><td>Gtl        </td><td>CollgCr       </td><td>Norm        </td><td>Norm        </td><td>1Fam      </td><td>1Story      </td><td>8.0               </td><td>5.0              </td><td>2007.0            </td><td>2007.0            </td><td>Gable      </td><td>CompShg   </td><td>VinylSd      </td><td>VinylSd      </td><td>BrkFace     </td><td>180.0             </td><td>Gd         </td><td>TA         </td><td>PConc       </td><td>Gd        </td><td>TA        </td><td>Av            </td><td>GLQ           </td><td>1478.0            </td><td>Unf           </td><td>0.0               </td><td>100.0            </td><td>1578.0            </td><td>GasA     </td><td>Ex         </td><td>Y           </td><td>SBrkr       </td><td>1602.0            </td><td>0.0               </td><td>0.0               </td><td>1602.0            </td><td>1.0                </td><td>0.0                </td><td>2.0               </td><td>0.0                </td><td>3.0               </td><td>1.0                </td><td>Gd           </td><td>7.0              </td><td>Typ         </td><td>1.0               </td><td>Gd           </td><td>Attchd      </td><td>RFn           </td><td>3.0               </td><td>810.0            </td><td>TA          </td><td>TA          </td><td>Y           </td><td>0.0               </td><td>48.0             </td><td>0.0              </td><td>0.0               </td><td>195.0             </td><td>0.0               </td><td>none   </td><td>0.0               </td><td>1.0              </td><td>2009.0            </td><td>WD        </td><td>Normal         </td><td>293200.0          </td></tr>\n",
       "</tbody>\n",
       "</table><pre style='font-size: smaller; margin-bottom: 1em;'>[2344 rows x 78 columns]</pre>"
      ],
      "text/plain": [
       "         house_id           MSSubClass         MSZoning    LotFrontage        LotArea             Street    Alley    LotShape    LandContour    Utilities    LotConfig    LandSlope    Neighborhood    Condition1    Condition2    BldgType    HouseStyle    OverallQual         OverallCond        YearBuilt           YearRemodAdd        RoofStyle    RoofMatl    Exterior1st    Exterior2nd    MasVnrType    MasVnrArea          ExterQual    ExterCond    Foundation    BsmtQual    BsmtCond    BsmtExposure    BsmtFinType1    BsmtFinSF1          BsmtFinType2    BsmtFinSF2          BsmtUnfSF          TotalBsmtSF         Heating    HeatingQC    CentralAir    Electrical    FirstFlrSF          SecondFlrSF         LowQualFinSF        GrLivArea           BsmtFullBath         BsmtHalfBath         FullBath            HalfBath             BedroomAbvGr        KitchenAbvGr         KitchenQual    TotRmsAbvGrd       Functional    Fireplaces          FireplaceQu    GarageType    GarageFinish    GarageCars          GarageArea         GarageQual    GarageCond    PavedDrive    WoodDeckSF          OpenPorchSF        EnclosedPorch      ThreeSsnPorch       ScreenPorch         PoolArea            Fence    MiscVal             MoSold             YrSold              SaleType    SaleCondition    SalePrice\n",
       "-------  -----------------  -----------------  ----------  -----------------  ------------------  --------  -------  ----------  -------------  -----------  -----------  -----------  --------------  ------------  ------------  ----------  ------------  ------------------  -----------------  ------------------  ------------------  -----------  ----------  -------------  -------------  ------------  ------------------  -----------  -----------  ------------  ----------  ----------  --------------  --------------  ------------------  --------------  ------------------  -----------------  ------------------  ---------  -----------  ------------  ------------  ------------------  ------------------  ------------------  ------------------  -------------------  -------------------  ------------------  -------------------  ------------------  -------------------  -------------  -----------------  ------------  ------------------  -------------  ------------  --------------  ------------------  -----------------  ------------  ------------  ------------  ------------------  -----------------  -----------------  ------------------  ------------------  ------------------  -------  ------------------  -----------------  ------------------  ----------  ---------------  ------------------\n",
       "type     int                int                enum        int                int                 enum      enum     enum        enum           enum         enum         enum         enum            enum          enum          enum        enum          int                 int                int                 int                 enum         enum        enum           enum           enum          int                 enum         enum         enum          enum        enum        enum            enum            int                 enum            int                 int                int                 enum       enum         enum          enum          int                 int                 int                 int                 int                  int                  int                 int                  int                 int                  enum           int                enum          int                 enum           enum          enum            int                 int                enum          enum          enum          int                 int                int                int                 int                 int                 enum     int                 int                int                 enum        enum             int\n",
       "mins     1.0                20.0                           0.0                1300.0                                                                                                                                                                         1.0                 1.0                1872.0              1950.0                                                                                   0.0                                                                                                                 0.0                                 0.0                 0.0                0.0                                                                     334.0               0.0                 0.0                 334.0               0.0                  0.0                  0.0                 0.0                  0.0                 0.0                                 2.0                              0.0                                                              0.0                 0.0                                                          0.0                 0.0                0.0                0.0                 0.0                 0.0                          0.0                 1.0                2006.0                                           12789.0\n",
       "mean     1172.5             57.3080204778157               57.60409556313993  10127.857508532423                                                                                                                                                             6.064419795221843   5.581911262798636  1970.5068259385666  1983.9236348122868                                                                       97.74104095563139                                                                                                   442.3425767918089                   50.0759385665529    554.1569965870307  1046.5755119453925                                                      1154.8144197952217  333.68813993174064  4.3570819112627985  1492.8596416382252  0.43131399317406144  0.05930034129692833  1.5571672354948805  0.37073378839590443  2.845136518771331   1.043088737201365                   6.409129692832765                0.5989761092150171                                               1.746160409556314   468.8788395904437                                            94.11305460750853   47.34172354948805  24.73165529010239  2.42278156996587    16.01023890784983   2.582764505119454            58.055034129692835  6.184726962457338  2007.794795221843                                178582.20776450512\n",
       "maxs     2344.0             190.0                          313.0              215245.0                                                                                                                                                                       10.0                9.0                2010.0              2010.0                                                                                   1290.0                                                                                                              5644.0                              1526.0              2336.0             6110.0                                                                  5095.0              2065.0              1064.0              5642.0              3.0                  2.0                  4.0                 2.0                  8.0                 3.0                                 15.0                             4.0                                                              4.0                 1488.0                                                       870.0               742.0              1012.0             508.0               576.0               800.0                        17000.0             12.0               2010.0                                           755000.0\n",
       "sigma    676.7988376664566  42.80255520479277              33.54268403124423  8050.9081315860585                                                                                                                                                             1.3885195724365862  1.105658637771616  30.341433709809888  20.786286586191313                                                                       171.76682948029887                                                                                                  452.21909238372723                  170.36377498493337  433.8468953028434  437.009368882394                                                        385.11426946187606  427.1411905726988   44.32399300764559   504.6196755936108   0.525468127735148    0.24159561045811204  0.5521616197346733  0.49960818531350026  0.8203516095298484  0.21133887922134537                 1.563650890639959                0.6529873381551253                                               0.7471572083696859  212.6083240164343                                            124.85186961842751  68.0374645088839   67.03094313263323  24.524361606192276  55.820882046949514  38.324144514778006           623.3751214138194   2.708407833789809  1.3151172158333897                               77125.07271273079\n",
       "zeros    0                  0                              393                0                                                                                                                                                                              0                   0                  0                   0                                                                                        1422                                                                                                                738                                 2059                196                61                                                                      0                   1346                2313                0                   1367                 2208                 10                  1494                 5                   2                                   0                                1144                                                             121                 121                                                          1215                1048               1956               2316                2139                2332                         2253                0                  0                                                0\n",
       "missing  0                  0                  0           0                  0                   0         0        0           0              0            0            0            0               0             0             0           0             0                   0                  0                   0                   0            0           0              0              0             0                   0            0            0             0           0           0               0               0                   0               0                   0                  0                   0          0            0             0             0                   0                   0                   0                   0                    0                    0                   0                    0                   0                    0              0                  0             0                   0              0             0               0                   0                  0             0             0             0                   0                  0                  0                   0                   0                   0        0                   0                  0                   0           0                0\n",
       "0        1.0                20.0               RL          80.0               10400.0             Pave      none     Reg         Lvl            AllPub       Inside       Gtl          NWAmes          Norm          Norm          1Fam        1Story        7.0                 5.0                1976.0              1976.0              Gable        CompShg     HdBoard        HdBoard        BrkFace       189.0               TA           TA           CBlock        Gd          TA          No              Unf             0.0                 Unf             0.0                 1090.0             1090.0              GasA       TA           Y             SBrkr         1370.0              0.0                 0.0                 1370.0              0.0                  0.0                  2.0                 0.0                  3.0                 1.0                  TA             6.0                Typ           1.0                 TA             Attchd        RFn             2.0                 479.0              TA            TA            Y             0.0                 0.0                0.0                0.0                 0.0                 0.0                 MnPrv    0.0                 6.0                2009.0              WD          Family           152000.0\n",
       "1        2.0                60.0               RL          0.0                28698.0             Pave      none     IR2         Low            AllPub       CulDSac      Sev          ClearCr         Norm          Norm          1Fam        2Story        5.0                 5.0                1967.0              1967.0              Flat         Tar&Grv     Plywood        Plywood        None          0.0                 TA           TA           PConc         TA          Gd          Gd              LwQ             249.0               ALQ             764.0               0.0                1013.0              GasA       TA           Y             SBrkr         1160.0              966.0               0.0                 2126.0              0.0                  1.0                  2.0                 1.0                  3.0                 1.0                  TA             7.0                Min2          0.0                 none           Attchd        Fin             2.0                 538.0              TA            TA            Y             486.0               0.0                0.0                0.0                 225.0               0.0                 none     0.0                 6.0                2009.0              WD          Abnorml          185000.0\n",
       "2        3.0                90.0               RL          70.0               9842.0              Pave      none     Reg         Lvl            AllPub       FR2          Gtl          NAmes           Norm          Norm          Duplex      1Story        4.0                 5.0                1962.0              1962.0              Gable        CompShg     HdBoard        HdBoard        None          0.0                 TA           TA           Slab          none        none        none            none            0.0                 none            0.0                 0.0                0.0                 GasA       TA           Y             SBrkr         1224.0              0.0                 0.0                 1224.0              0.0                  0.0                  2.0                 0.0                  2.0                 2.0                  TA             6.0                Typ           0.0                 none           CarPort       Unf             2.0                 462.0              TA            TA            Y             0.0                 0.0                0.0                0.0                 0.0                 0.0                 none     0.0                 3.0                2007.0              WD          Normal           101800.0\n",
       "3        4.0                90.0               RL          60.0               7200.0              Pave      none     Reg         Lvl            AllPub       Inside       Gtl          NAmes           Norm          Norm          Duplex      1Story        4.0                 5.0                1949.0              1950.0              Gable        CompShg     BrkFace        Stone          None          0.0                 TA           TA           Slab          none        none        none            none            0.0                 none            0.0                 0.0                0.0                 Wall       Fa           N             FuseF         1040.0              0.0                 0.0                 1040.0              0.0                  0.0                  2.0                 0.0                  2.0                 2.0                  TA             6.0                Typ           0.0                 none           Detchd        Unf             2.0                 420.0              TA            TA            Y             0.0                 0.0                0.0                0.0                 0.0                 0.0                 none     0.0                 6.0                2009.0              WD          Normal           90000.0\n",
       "4        5.0                190.0              RM          63.0               7627.0              Pave      none     Reg         Lvl            AllPub       Corner       Gtl          OldTown         Artery        Norm          2fmCon      2Story        4.0                 6.0                1920.0              1950.0              Gable        CompShg     AsbShng        AsbShng        None          0.0                 Fa           TA           BrkTil        Fa          Po          No              Unf             0.0                 Unf             0.0                 600.0              600.0               GasA       Gd           N             SBrkr         1101.0              600.0               0.0                 1701.0              0.0                  0.0                  2.0                 0.0                  4.0                 2.0                  Fa             8.0                Typ           0.0                 none           none          none            0.0                 0.0                none          none          N             0.0                 0.0                148.0              0.0                 0.0                 0.0                 none     0.0                 10.0               2009.0              WD          Normal           94550.0\n",
       "5        6.0                60.0               RL          97.0               10029.0             Pave      none     IR1         Lvl            AllPub       Corner       Gtl          ClearCr         Norm          Norm          1Fam        2Story        6.0                 5.0                1988.0              1989.0              Gable        CompShg     Plywood        Plywood        BrkFace       268.0               Gd           TA           PConc         Gd          TA          No              GLQ             831.0               Unf             0.0                 320.0              1151.0              GasA       TA           Y             SBrkr         1164.0              896.0               0.0                 2060.0              0.0                  1.0                  2.0                 1.0                  4.0                 1.0                  TA             8.0                Typ           1.0                 TA             Attchd        Unf             2.0                 521.0              TA            TA            Y             0.0                 228.0              0.0                0.0                 192.0               0.0                 none     0.0                 9.0                2007.0              WD          Normal           211000.0\n",
       "6        7.0                60.0               RL          84.0               9660.0              Pave      none     IR1         Lvl            AllPub       Inside       Gtl          NoRidge         Norm          Norm          1Fam        2Story        8.0                 5.0                1998.0              1998.0              Gable        CompShg     VinylSd        VinylSd        BrkFace       242.0               Gd           TA           PConc         Gd          TA          No              GLQ             791.0               Unf             0.0                 253.0              1044.0              GasA       Ex           Y             SBrkr         1079.0              897.0               0.0                 1976.0              1.0                  0.0                  2.0                 1.0                  3.0                 1.0                  Gd             7.0                Typ           1.0                 Ex             Attchd        Fin             3.0                 885.0              TA            TA            Y             210.0               31.0               0.0                0.0                 0.0                 0.0                 none     0.0                 2.0                2006.0              WD          Normal           286000.0\n",
       "7        8.0                20.0               RL          75.0               11310.0             Pave      none     Reg         Lvl            AllPub       Inside       Gtl          NAmes           Norm          Norm          1Fam        1Story        6.0                 5.0                1954.0              1954.0              Hip          CompShg     WdSdng         BrkFace        None          0.0                 TA           TA           CBlock        TA          TA          No              Unf             0.0                 Unf             0.0                 1367.0             1367.0              GasA       Ex           Y             SBrkr         1375.0              0.0                 0.0                 1375.0              0.0                  0.0                  1.0                 0.0                  2.0                 1.0                  TA             5.0                Typ           1.0                 TA             Attchd        Unf             2.0                 451.0              TA            TA            Y             0.0                 30.0               0.0                0.0                 0.0                 0.0                 none     0.0                 6.0                2006.0              WD          Normal           140000.0\n",
       "8        9.0                60.0               RL          0.0                18450.0             Pave      none     IR1         Lvl            AllPub       Inside       Gtl          NAmes           Norm          Norm          1Fam        2Story        6.0                 5.0                1965.0              1979.0              Flat         Tar&Grv     Plywood        Plywood        BrkCmn        113.0               TA           Gd           CBlock        Gd          TA          No              LwQ             187.0               Rec             723.0               111.0              1021.0              GasA       TA           Y             SBrkr         1465.0              915.0               0.0                 2380.0              0.0                  0.0                  2.0                 1.0                  3.0                 1.0                  TA             7.0                Sev           1.0                 Po             CarPort       Unf             2.0                 596.0              TA            TA            Y             0.0                 265.0              0.0                0.0                 0.0                 0.0                 none     0.0                 8.0                2007.0              WD          Abnorml          129000.0\n",
       "9        10.0               20.0               RL          85.0               10200.0             Pave      none     Reg         Lvl            AllPub       Inside       Gtl          CollgCr         Norm          Norm          1Fam        1Story        8.0                 5.0                2007.0              2007.0              Gable        CompShg     VinylSd        VinylSd        BrkFace       180.0               Gd           TA           PConc         Gd          TA          Av              GLQ             1478.0              Unf             0.0                 100.0              1578.0              GasA       Ex           Y             SBrkr         1602.0              0.0                 0.0                 1602.0              1.0                  0.0                  2.0                 0.0                  3.0                 1.0                  Gd             7.0                Typ           1.0                 Gd             Attchd        RFn             3.0                 810.0              TA            TA            Y             0.0                 48.0               0.0                0.0                 195.0               0.0                 none     0.0                 1.0                2009.0              WD          Normal           293200.0\n",
       "[2344 rows x 78 columns]\n"
      ]
     },
     "metadata": {},
     "output_type": "display_data"
    }
   ],
   "source": [
    "df.describe()"
   ]
  },
  {
   "cell_type": "markdown",
   "metadata": {},
   "source": [
    "We need to do some minimal data prepereatio, that is, identify the response variable and split the data into train and test sets."
   ]
  },
  {
   "cell_type": "code",
   "execution_count": 27,
   "metadata": {},
   "outputs": [],
   "source": [
    "y = \"SalePrice\""
   ]
  },
  {
   "cell_type": "code",
   "execution_count": 28,
   "metadata": {},
   "outputs": [],
   "source": [
    "splits = df.split_frame(ratios = [0.8], seed = 42)\n",
    "train = splits[0]\n",
    "test = splits[1]"
   ]
  },
  {
   "cell_type": "markdown",
   "metadata": {},
   "source": [
    "### Train AutoML model"
   ]
  },
  {
   "cell_type": "markdown",
   "metadata": {},
   "source": [
    "Now we can start the AutoML process. It's really nothing more than specifying the maximum runtime and handing over the data. The AutoML process will then try a variety of learning algorithms and hyperparamter combinations to find the best model."
   ]
  },
  {
   "cell_type": "code",
   "execution_count": 29,
   "metadata": {},
   "outputs": [
    {
     "name": "stdout",
     "output_type": "stream",
     "text": [
      "AutoML progress: |███████████████████████████████████████████████████████████████| (done) 100%\n"
     ]
    },
    {
     "data": {
      "text/html": [
       "<pre style='margin: 1em 0 1em 0;'>Model Details\n",
       "=============\n",
       "H2OStackedEnsembleEstimator : Stacked Ensemble\n",
       "Model Key: StackedEnsemble_BestOfFamily_3_AutoML_1_20240212_133707\n",
       "</pre>\n",
       "<div style='margin: 1em 0 1em 0;'>\n",
       "<style>\n",
       "\n",
       "#h2o-table-2.h2o-container {\n",
       "  overflow-x: auto;\n",
       "}\n",
       "#h2o-table-2 .h2o-table {\n",
       "  /* width: 100%; */\n",
       "  margin-top: 1em;\n",
       "  margin-bottom: 1em;\n",
       "}\n",
       "#h2o-table-2 .h2o-table caption {\n",
       "  white-space: nowrap;\n",
       "  caption-side: top;\n",
       "  text-align: left;\n",
       "  /* margin-left: 1em; */\n",
       "  margin: 0;\n",
       "  font-size: larger;\n",
       "}\n",
       "#h2o-table-2 .h2o-table thead {\n",
       "  white-space: nowrap; \n",
       "  position: sticky;\n",
       "  top: 0;\n",
       "  box-shadow: 0 -1px inset;\n",
       "}\n",
       "#h2o-table-2 .h2o-table tbody {\n",
       "  overflow: auto;\n",
       "}\n",
       "#h2o-table-2 .h2o-table th,\n",
       "#h2o-table-2 .h2o-table td {\n",
       "  text-align: right;\n",
       "  /* border: 1px solid; */\n",
       "}\n",
       "#h2o-table-2 .h2o-table tr:nth-child(even) {\n",
       "  /* background: #F5F5F5 */\n",
       "}\n",
       "\n",
       "</style>      \n",
       "<div id=\"h2o-table-2\" class=\"h2o-container\">\n",
       "  <table class=\"h2o-table\">\n",
       "    <caption>Model Summary for Stacked Ensemble: </caption>\n",
       "    <thead><tr><th>key</th>\n",
       "<th>value</th></tr></thead>\n",
       "    <tbody><tr><td>Stacking strategy</td>\n",
       "<td>cross_validation</td></tr>\n",
       "<tr><td>Number of base models (used / total)</td>\n",
       "<td>4/6</td></tr>\n",
       "<tr><td># GBM base models (used / total)</td>\n",
       "<td>1/1</td></tr>\n",
       "<tr><td># XGBoost base models (used / total)</td>\n",
       "<td>1/1</td></tr>\n",
       "<tr><td># DeepLearning base models (used / total)</td>\n",
       "<td>1/1</td></tr>\n",
       "<tr><td># DRF base models (used / total)</td>\n",
       "<td>1/2</td></tr>\n",
       "<tr><td># GLM base models (used / total)</td>\n",
       "<td>0/1</td></tr>\n",
       "<tr><td>Metalearner algorithm</td>\n",
       "<td>GLM</td></tr>\n",
       "<tr><td>Metalearner fold assignment scheme</td>\n",
       "<td>Random</td></tr>\n",
       "<tr><td>Metalearner nfolds</td>\n",
       "<td>5</td></tr>\n",
       "<tr><td>Metalearner fold_column</td>\n",
       "<td>None</td></tr>\n",
       "<tr><td>Custom metalearner hyperparameters</td>\n",
       "<td>None</td></tr></tbody>\n",
       "  </table>\n",
       "</div>\n",
       "</div>\n",
       "<div style='margin: 1em 0 1em 0;'><pre style='margin: 1em 0 1em 0;'>ModelMetricsRegressionGLM: stackedensemble\n",
       "** Reported on train data. **\n",
       "\n",
       "MSE: 171590480.69824773\n",
       "RMSE: 13099.254967296718\n",
       "MAE: 7918.473029007443\n",
       "RMSLE: 0.07304957341540719\n",
       "Mean Residual Deviance: 171590480.69824773\n",
       "R^2: 0.9712282978727619\n",
       "Null degrees of freedom: 1874\n",
       "Residual degrees of freedom: 1870\n",
       "Null deviance: 11182242534223.639\n",
       "Residual deviance: 321732151309.2145\n",
       "AIC: 40884.18438019185</pre></div>\n",
       "<div style='margin: 1em 0 1em 0;'><pre style='margin: 1em 0 1em 0;'>ModelMetricsRegressionGLM: stackedensemble\n",
       "** Reported on cross-validation data. **\n",
       "\n",
       "MSE: 610414914.2637218\n",
       "RMSE: 24706.5763363466\n",
       "MAE: 14352.053037602107\n",
       "RMSLE: 0.12693080510060414\n",
       "Mean Residual Deviance: 610414914.2637218\n",
       "R^2: 0.897647724886881\n",
       "Null degrees of freedom: 1874\n",
       "Residual degrees of freedom: 1869\n",
       "Null deviance: 11188141400605.234\n",
       "Residual deviance: 1144527964244.4785\n",
       "AIC: 43265.61225806751</pre></div>\n",
       "<div style='margin: 1em 0 1em 0;'>\n",
       "<style>\n",
       "\n",
       "#h2o-table-3.h2o-container {\n",
       "  overflow-x: auto;\n",
       "}\n",
       "#h2o-table-3 .h2o-table {\n",
       "  /* width: 100%; */\n",
       "  margin-top: 1em;\n",
       "  margin-bottom: 1em;\n",
       "}\n",
       "#h2o-table-3 .h2o-table caption {\n",
       "  white-space: nowrap;\n",
       "  caption-side: top;\n",
       "  text-align: left;\n",
       "  /* margin-left: 1em; */\n",
       "  margin: 0;\n",
       "  font-size: larger;\n",
       "}\n",
       "#h2o-table-3 .h2o-table thead {\n",
       "  white-space: nowrap; \n",
       "  position: sticky;\n",
       "  top: 0;\n",
       "  box-shadow: 0 -1px inset;\n",
       "}\n",
       "#h2o-table-3 .h2o-table tbody {\n",
       "  overflow: auto;\n",
       "}\n",
       "#h2o-table-3 .h2o-table th,\n",
       "#h2o-table-3 .h2o-table td {\n",
       "  text-align: right;\n",
       "  /* border: 1px solid; */\n",
       "}\n",
       "#h2o-table-3 .h2o-table tr:nth-child(even) {\n",
       "  /* background: #F5F5F5 */\n",
       "}\n",
       "\n",
       "</style>      \n",
       "<div id=\"h2o-table-3\" class=\"h2o-container\">\n",
       "  <table class=\"h2o-table\">\n",
       "    <caption>Cross-Validation Metrics Summary: </caption>\n",
       "    <thead><tr><th></th>\n",
       "<th>mean</th>\n",
       "<th>sd</th>\n",
       "<th>cv_1_valid</th>\n",
       "<th>cv_2_valid</th>\n",
       "<th>cv_3_valid</th>\n",
       "<th>cv_4_valid</th>\n",
       "<th>cv_5_valid</th></tr></thead>\n",
       "    <tbody><tr><td>mae</td>\n",
       "<td>14361.798</td>\n",
       "<td>1278.871</td>\n",
       "<td>14635.716</td>\n",
       "<td>13841.79</td>\n",
       "<td>12471.604</td>\n",
       "<td>15016.472</td>\n",
       "<td>15843.409</td></tr>\n",
       "<tr><td>mean_residual_deviance</td>\n",
       "<td>611797120.0000000</td>\n",
       "<td>215029328.0000000</td>\n",
       "<td>675830780.0000000</td>\n",
       "<td>517307552.0000000</td>\n",
       "<td>312344064.0000000</td>\n",
       "<td>658790400.0000000</td>\n",
       "<td>894712960.0000000</td></tr>\n",
       "<tr><td>mse</td>\n",
       "<td>611797120.0000000</td>\n",
       "<td>215029328.0000000</td>\n",
       "<td>675830780.0000000</td>\n",
       "<td>517307552.0000000</td>\n",
       "<td>312344064.0000000</td>\n",
       "<td>658790400.0000000</td>\n",
       "<td>894712960.0000000</td></tr>\n",
       "<tr><td>null_deviance</td>\n",
       "<td>2237628150000.0000000</td>\n",
       "<td>346971537000.0000000</td>\n",
       "<td>1995348120000.0000000</td>\n",
       "<td>2463938900000.0000000</td>\n",
       "<td>1837940080000.0000000</td>\n",
       "<td>2695961250000.0000000</td>\n",
       "<td>2194953340000.0000000</td></tr>\n",
       "<tr><td>r2</td>\n",
       "<td>0.8971342</td>\n",
       "<td>0.0363637</td>\n",
       "<td>0.8706957</td>\n",
       "<td>0.9227553</td>\n",
       "<td>0.9346422</td>\n",
       "<td>0.9092348</td>\n",
       "<td>0.8483432</td></tr>\n",
       "<tr><td>residual_deviance</td>\n",
       "<td>228905599000.0000000</td>\n",
       "<td>79462572000.0000000</td>\n",
       "<td>257491534000.0000000</td>\n",
       "<td>189851861000.0000000</td>\n",
       "<td>119940112000.0000000</td>\n",
       "<td>244411236000.0000000</td>\n",
       "<td>332833227000.0000000</td></tr>\n",
       "<tr><td>rmse</td>\n",
       "<td>24398.613</td>\n",
       "<td>4542.14</td>\n",
       "<td>25996.746</td>\n",
       "<td>22744.396</td>\n",
       "<td>17673.258</td>\n",
       "<td>25666.912</td>\n",
       "<td>29911.752</td></tr>\n",
       "<tr><td>rmsle</td>\n",
       "<td>0.1260067</td>\n",
       "<td>0.0175305</td>\n",
       "<td>0.1273246</td>\n",
       "<td>0.1054842</td>\n",
       "<td>0.1121242</td>\n",
       "<td>0.1483059</td>\n",
       "<td>0.1367947</td></tr></tbody>\n",
       "  </table>\n",
       "</div>\n",
       "</div><pre style=\"font-size: smaller; margin: 1em 0 0 0;\">\n",
       "\n",
       "[tips]\n",
       "Use `model.explain()` to inspect the model.\n",
       "--\n",
       "Use `h2o.display.toggle_user_tips()` to switch on/off this section.</pre>"
      ],
      "text/plain": [
       "Model Details\n",
       "=============\n",
       "H2OStackedEnsembleEstimator : Stacked Ensemble\n",
       "Model Key: StackedEnsemble_BestOfFamily_3_AutoML_1_20240212_133707\n",
       "\n",
       "\n",
       "Model Summary for Stacked Ensemble: \n",
       "key                                        value\n",
       "-----------------------------------------  ----------------\n",
       "Stacking strategy                          cross_validation\n",
       "Number of base models (used / total)       4/6\n",
       "# GBM base models (used / total)           1/1\n",
       "# XGBoost base models (used / total)       1/1\n",
       "# DeepLearning base models (used / total)  1/1\n",
       "# DRF base models (used / total)           1/2\n",
       "# GLM base models (used / total)           0/1\n",
       "Metalearner algorithm                      GLM\n",
       "Metalearner fold assignment scheme         Random\n",
       "Metalearner nfolds                         5\n",
       "Metalearner fold_column\n",
       "Custom metalearner hyperparameters         None\n",
       "\n",
       "ModelMetricsRegressionGLM: stackedensemble\n",
       "** Reported on train data. **\n",
       "\n",
       "MSE: 171590480.69824773\n",
       "RMSE: 13099.254967296718\n",
       "MAE: 7918.473029007443\n",
       "RMSLE: 0.07304957341540719\n",
       "Mean Residual Deviance: 171590480.69824773\n",
       "R^2: 0.9712282978727619\n",
       "Null degrees of freedom: 1874\n",
       "Residual degrees of freedom: 1870\n",
       "Null deviance: 11182242534223.639\n",
       "Residual deviance: 321732151309.2145\n",
       "AIC: 40884.18438019185\n",
       "\n",
       "ModelMetricsRegressionGLM: stackedensemble\n",
       "** Reported on cross-validation data. **\n",
       "\n",
       "MSE: 610414914.2637218\n",
       "RMSE: 24706.5763363466\n",
       "MAE: 14352.053037602107\n",
       "RMSLE: 0.12693080510060414\n",
       "Mean Residual Deviance: 610414914.2637218\n",
       "R^2: 0.897647724886881\n",
       "Null degrees of freedom: 1874\n",
       "Residual degrees of freedom: 1869\n",
       "Null deviance: 11188141400605.234\n",
       "Residual deviance: 1144527964244.4785\n",
       "AIC: 43265.61225806751\n",
       "\n",
       "Cross-Validation Metrics Summary: \n",
       "                        mean         sd           cv_1_valid    cv_2_valid    cv_3_valid    cv_4_valid    cv_5_valid\n",
       "----------------------  -----------  -----------  ------------  ------------  ------------  ------------  ------------\n",
       "mae                     14361.8      1278.87      14635.7       13841.8       12471.6       15016.5       15843.4\n",
       "mean_residual_deviance  6.11797e+08  2.15029e+08  6.75831e+08   5.17308e+08   3.12344e+08   6.5879e+08    8.94713e+08\n",
       "mse                     6.11797e+08  2.15029e+08  6.75831e+08   5.17308e+08   3.12344e+08   6.5879e+08    8.94713e+08\n",
       "null_deviance           2.23763e+12  3.46972e+11  1.99535e+12   2.46394e+12   1.83794e+12   2.69596e+12   2.19495e+12\n",
       "r2                      0.897134     0.0363637    0.870696      0.922755      0.934642      0.909235      0.848343\n",
       "residual_deviance       2.28906e+11  7.94626e+10  2.57492e+11   1.89852e+11   1.1994e+11    2.44411e+11   3.32833e+11\n",
       "rmse                    24398.6      4542.14      25996.7       22744.4       17673.3       25666.9       29911.8\n",
       "rmsle                   0.126007     0.0175305    0.127325      0.105484      0.112124      0.148306      0.136795\n",
       "\n",
       "[tips]\n",
       "Use `model.explain()` to inspect the model.\n",
       "--\n",
       "Use `h2o.display.toggle_user_tips()` to switch on/off this section."
      ]
     },
     "execution_count": 29,
     "metadata": {},
     "output_type": "execute_result"
    }
   ],
   "source": [
    "aml = H2OAutoML(max_runtime_secs = 60, seed = 42, project_name = \"ames\")\n",
    "aml.train(y = y, training_frame = train, leaderboard_frame = test)"
   ]
  },
  {
   "cell_type": "markdown",
   "metadata": {},
   "source": [
    "### Display leaderboard"
   ]
  },
  {
   "cell_type": "markdown",
   "metadata": {},
   "source": [
    "The above metrics stem from H2O's internal cross-validation. The leaderboard below shows the performance of the models on the test set."
   ]
  },
  {
   "cell_type": "code",
   "execution_count": 30,
   "metadata": {},
   "outputs": [
    {
     "data": {
      "text/html": [
       "<table class='dataframe'>\n",
       "<thead>\n",
       "<tr><th>model_id                                               </th><th style=\"text-align: right;\">   rmse</th><th style=\"text-align: right;\">        mse</th><th style=\"text-align: right;\">    mae</th><th style=\"text-align: right;\">   rmsle</th><th style=\"text-align: right;\">  mean_residual_deviance</th></tr>\n",
       "</thead>\n",
       "<tbody>\n",
       "<tr><td>StackedEnsemble_BestOfFamily_3_AutoML_1_20240212_133707</td><td style=\"text-align: right;\">21662.3</td><td style=\"text-align: right;\">4.69255e+08</td><td style=\"text-align: right;\">13966.2</td><td style=\"text-align: right;\">0.138664</td><td style=\"text-align: right;\">             4.69255e+08</td></tr>\n",
       "<tr><td>StackedEnsemble_AllModels_2_AutoML_1_20240212_133707   </td><td style=\"text-align: right;\">22212.2</td><td style=\"text-align: right;\">4.93381e+08</td><td style=\"text-align: right;\">14123  </td><td style=\"text-align: right;\">0.141379</td><td style=\"text-align: right;\">             4.93381e+08</td></tr>\n",
       "<tr><td>StackedEnsemble_AllModels_1_AutoML_1_20240212_133707   </td><td style=\"text-align: right;\">22874.5</td><td style=\"text-align: right;\">5.23242e+08</td><td style=\"text-align: right;\">14475.3</td><td style=\"text-align: right;\">0.142651</td><td style=\"text-align: right;\">             5.23242e+08</td></tr>\n",
       "<tr><td>StackedEnsemble_BestOfFamily_2_AutoML_1_20240212_133707</td><td style=\"text-align: right;\">22899.7</td><td style=\"text-align: right;\">5.24397e+08</td><td style=\"text-align: right;\">14634.4</td><td style=\"text-align: right;\">0.140837</td><td style=\"text-align: right;\">             5.24397e+08</td></tr>\n",
       "<tr><td>GBM_2_AutoML_1_20240212_133707                         </td><td style=\"text-align: right;\">22995.3</td><td style=\"text-align: right;\">5.28783e+08</td><td style=\"text-align: right;\">14671.5</td><td style=\"text-align: right;\">0.140301</td><td style=\"text-align: right;\">             5.28783e+08</td></tr>\n",
       "<tr><td>StackedEnsemble_BestOfFamily_1_AutoML_1_20240212_133707</td><td style=\"text-align: right;\">24124.5</td><td style=\"text-align: right;\">5.81993e+08</td><td style=\"text-align: right;\">15493.6</td><td style=\"text-align: right;\">0.151572</td><td style=\"text-align: right;\">             5.81993e+08</td></tr>\n",
       "<tr><td>GBM_3_AutoML_1_20240212_133707                         </td><td style=\"text-align: right;\">24359.1</td><td style=\"text-align: right;\">5.93364e+08</td><td style=\"text-align: right;\">15544.3</td><td style=\"text-align: right;\">0.151266</td><td style=\"text-align: right;\">             5.93364e+08</td></tr>\n",
       "<tr><td>GBM_1_AutoML_1_20240212_133707                         </td><td style=\"text-align: right;\">24713.6</td><td style=\"text-align: right;\">6.1076e+08 </td><td style=\"text-align: right;\">16212.9</td><td style=\"text-align: right;\">0.159239</td><td style=\"text-align: right;\">             6.1076e+08 </td></tr>\n",
       "<tr><td>GBM_4_AutoML_1_20240212_133707                         </td><td style=\"text-align: right;\">24843.6</td><td style=\"text-align: right;\">6.17205e+08</td><td style=\"text-align: right;\">15611.3</td><td style=\"text-align: right;\">0.146629</td><td style=\"text-align: right;\">             6.17205e+08</td></tr>\n",
       "<tr><td>XGBoost_2_AutoML_1_20240212_133707                     </td><td style=\"text-align: right;\">25070.8</td><td style=\"text-align: right;\">6.28546e+08</td><td style=\"text-align: right;\">17213.4</td><td style=\"text-align: right;\">0.159269</td><td style=\"text-align: right;\">             6.28546e+08</td></tr>\n",
       "</tbody>\n",
       "</table><pre style='font-size: smaller; margin-bottom: 1em;'>[10 rows x 6 columns]</pre>"
      ],
      "text/plain": [
       "model_id                                                    rmse          mse      mae     rmsle    mean_residual_deviance\n",
       "-------------------------------------------------------  -------  -----------  -------  --------  ------------------------\n",
       "StackedEnsemble_BestOfFamily_3_AutoML_1_20240212_133707  21662.3  4.69255e+08  13966.2  0.138664               4.69255e+08\n",
       "StackedEnsemble_AllModels_2_AutoML_1_20240212_133707     22212.2  4.93381e+08  14123    0.141379               4.93381e+08\n",
       "StackedEnsemble_AllModels_1_AutoML_1_20240212_133707     22874.5  5.23242e+08  14475.3  0.142651               5.23242e+08\n",
       "StackedEnsemble_BestOfFamily_2_AutoML_1_20240212_133707  22899.7  5.24397e+08  14634.4  0.140837               5.24397e+08\n",
       "GBM_2_AutoML_1_20240212_133707                           22995.3  5.28783e+08  14671.5  0.140301               5.28783e+08\n",
       "StackedEnsemble_BestOfFamily_1_AutoML_1_20240212_133707  24124.5  5.81993e+08  15493.6  0.151572               5.81993e+08\n",
       "GBM_3_AutoML_1_20240212_133707                           24359.1  5.93364e+08  15544.3  0.151266               5.93364e+08\n",
       "GBM_1_AutoML_1_20240212_133707                           24713.6  6.1076e+08   16212.9  0.159239               6.1076e+08\n",
       "GBM_4_AutoML_1_20240212_133707                           24843.6  6.17205e+08  15611.3  0.146629               6.17205e+08\n",
       "XGBoost_2_AutoML_1_20240212_133707                       25070.8  6.28546e+08  17213.4  0.159269               6.28546e+08\n",
       "[10 rows x 6 columns]\n"
      ]
     },
     "execution_count": 30,
     "metadata": {},
     "output_type": "execute_result"
    }
   ],
   "source": [
    "aml.leaderboard.head()"
   ]
  },
  {
   "cell_type": "markdown",
   "metadata": {},
   "source": [
    "### Predict on Kaggle test set"
   ]
  },
  {
   "cell_type": "markdown",
   "metadata": {},
   "source": [
    "The only thing we have to do now is to make predictions on the Kaggle test set and upload them."
   ]
  },
  {
   "cell_type": "code",
   "execution_count": 62,
   "metadata": {},
   "outputs": [
    {
     "name": "stdout",
     "output_type": "stream",
     "text": [
      "Parse progress: |████████████████████████████████████████████████████████████████| (done) 100%\n"
     ]
    }
   ],
   "source": [
    "test_kaggle = h2o.import_file('data/test.csv')"
   ]
  },
  {
   "cell_type": "code",
   "execution_count": 63,
   "metadata": {},
   "outputs": [
    {
     "name": "stdout",
     "output_type": "stream",
     "text": [
      "stackedensemble prediction progress: |███████████████████████████████████████████| (done) 100%\n"
     ]
    }
   ],
   "source": [
    "pred = aml.predict(test_kaggle)"
   ]
  },
  {
   "cell_type": "markdown",
   "metadata": {},
   "source": [
    "Put everything together in one dataframe."
   ]
  },
  {
   "cell_type": "code",
   "execution_count": 70,
   "metadata": {},
   "outputs": [],
   "source": [
    "pred = h2o.as_list(pred)\n",
    "id = h2o.as_list(test_kaggle[\"house_id\"])\n",
    "my_submission = pd.concat([id, pred], axis = 1)\n",
    "my_submission.columns = ['HouseId', 'SalePrice']"
   ]
  },
  {
   "cell_type": "code",
   "execution_count": 71,
   "metadata": {},
   "outputs": [
    {
     "data": {
      "text/html": [
       "<div>\n",
       "<style scoped>\n",
       "    .dataframe tbody tr th:only-of-type {\n",
       "        vertical-align: middle;\n",
       "    }\n",
       "\n",
       "    .dataframe tbody tr th {\n",
       "        vertical-align: top;\n",
       "    }\n",
       "\n",
       "    .dataframe thead th {\n",
       "        text-align: right;\n",
       "    }\n",
       "</style>\n",
       "<table border=\"1\" class=\"dataframe\">\n",
       "  <thead>\n",
       "    <tr style=\"text-align: right;\">\n",
       "      <th></th>\n",
       "      <th>HouseId</th>\n",
       "      <th>SalePrice</th>\n",
       "    </tr>\n",
       "  </thead>\n",
       "  <tbody>\n",
       "    <tr>\n",
       "      <th>0</th>\n",
       "      <td>2345</td>\n",
       "      <td>157281.669820</td>\n",
       "    </tr>\n",
       "    <tr>\n",
       "      <th>1</th>\n",
       "      <td>2346</td>\n",
       "      <td>114220.247043</td>\n",
       "    </tr>\n",
       "    <tr>\n",
       "      <th>2</th>\n",
       "      <td>2347</td>\n",
       "      <td>185537.502271</td>\n",
       "    </tr>\n",
       "    <tr>\n",
       "      <th>3</th>\n",
       "      <td>2348</td>\n",
       "      <td>128552.039232</td>\n",
       "    </tr>\n",
       "    <tr>\n",
       "      <th>4</th>\n",
       "      <td>2349</td>\n",
       "      <td>116962.245662</td>\n",
       "    </tr>\n",
       "  </tbody>\n",
       "</table>\n",
       "</div>"
      ],
      "text/plain": [
       "   HouseId      SalePrice\n",
       "0     2345  157281.669820\n",
       "1     2346  114220.247043\n",
       "2     2347  185537.502271\n",
       "3     2348  128552.039232\n",
       "4     2349  116962.245662"
      ]
     },
     "execution_count": 71,
     "metadata": {},
     "output_type": "execute_result"
    }
   ],
   "source": [
    "my_submission.head()"
   ]
  },
  {
   "cell_type": "markdown",
   "metadata": {},
   "source": [
    "Save the dataframe to a csv file and manualy upload it to Kaggle."
   ]
  },
  {
   "cell_type": "code",
   "execution_count": 75,
   "metadata": {},
   "outputs": [],
   "source": [
    "my_submission.to_csv('submission.csv', index=False)"
   ]
  },
  {
   "cell_type": "markdown",
   "metadata": {},
   "source": [
    "Stop H2O server."
   ]
  },
  {
   "cell_type": "code",
   "execution_count": 76,
   "metadata": {},
   "outputs": [
    {
     "name": "stdout",
     "output_type": "stream",
     "text": [
      "H2O session _sid_9305 closed.\n"
     ]
    }
   ],
   "source": [
    "h2o.shutdown()"
   ]
  },
  {
   "cell_type": "code",
   "execution_count": null,
   "metadata": {},
   "outputs": [],
   "source": []
  }
 ],
 "metadata": {
  "kernelspec": {
   "display_name": "prodok",
   "language": "python",
   "name": "python3"
  },
  "language_info": {
   "codemirror_mode": {
    "name": "ipython",
    "version": 3
   },
   "file_extension": ".py",
   "mimetype": "text/x-python",
   "name": "python",
   "nbconvert_exporter": "python",
   "pygments_lexer": "ipython3",
   "version": "3.12.1"
  }
 },
 "nbformat": 4,
 "nbformat_minor": 2
}
