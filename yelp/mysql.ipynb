{
 "cells": [
  {
   "cell_type": "code",
   "execution_count": null,
   "metadata": {},
   "outputs": [],
   "source": [
    "# Install libraries\n",
    "#!pip install sqlalchemy"
   ]
  },
  {
   "cell_type": "code",
   "execution_count": null,
   "metadata": {},
   "outputs": [],
   "source": [
    "# Import libraries\n",
    "import pandas as pd\n",
    "from sqlalchemy import create_engine"
   ]
  },
  {
   "cell_type": "code",
   "execution_count": null,
   "metadata": {},
   "outputs": [],
   "source": [
    "engine = create_engine(\"...\")"
   ]
  },
  {
   "cell_type": "code",
   "execution_count": null,
   "metadata": {},
   "outputs": [],
   "source": [
    "# Execute a simple SQL query\n",
    "query_businesses_100 = \"\"\"\n",
    "    SELECT *\n",
    "    FROM business \n",
    "    LIMIT 100\n",
    "\"\"\"\n",
    "\n",
    "businesses_100 = pd.read_sql(query_businesses_100, engine)"
   ]
  },
  {
   "cell_type": "code",
   "execution_count": null,
   "metadata": {},
   "outputs": [],
   "source": [
    "businesses_100.head()"
   ]
  },
  {
   "cell_type": "code",
   "execution_count": null,
   "metadata": {},
   "outputs": [],
   "source": [
    "# Execute a more complex SQL query involving inner join and where clauses\n",
    "query_pizza_places_500 = \"\"\"\n",
    "    SELECT *\n",
    "    FROM business \n",
    "    INNER JOIN category\n",
    "    ON business.id = category.business_id\n",
    "    WHERE category.category = 'pizza'\n",
    "    AND business.city = 'Phoenix'\n",
    "    LIMIT 500\n",
    "\"\"\"\n",
    "\n",
    "pizza_places_500 = pd.read_sql(query_pizza_places_500, engine)\n"
   ]
  },
  {
   "cell_type": "code",
   "execution_count": null,
   "metadata": {},
   "outputs": [],
   "source": [
    "pizza_places_500.head()\n"
   ]
  },
  {
   "cell_type": "code",
   "execution_count": null,
   "metadata": {},
   "outputs": [],
   "source": [
    "# Execute another SQL query\n",
    "query_hilton = \"\"\"\n",
    "    SELECT *\n",
    "    FROM business \n",
    "    INNER JOIN category\n",
    "    ON business.id = category.business_id\n",
    "    INNER JOIN review\n",
    "    ON business.id = review.business_id\n",
    "    WHERE business.name LIKE 'Hilton%'\n",
    "\"\"\"\n",
    "\n",
    "hilton = pd.read_sql(query_hilton, engine)"
   ]
  },
  {
   "cell_type": "code",
   "execution_count": null,
   "metadata": {},
   "outputs": [],
   "source": [
    "hilton.head()"
   ]
  },
  {
   "cell_type": "code",
   "execution_count": null,
   "metadata": {},
   "outputs": [],
   "source": [
    "# Close the connection\n",
    "engine.dispose()\n"
   ]
  }
 ],
 "metadata": {
  "kernelspec": {
   "display_name": "prodok",
   "language": "python",
   "name": "python3"
  },
  "language_info": {
   "codemirror_mode": {
    "name": "ipython",
    "version": 3
   },
   "file_extension": ".py",
   "mimetype": "text/x-python",
   "name": "python",
   "nbconvert_exporter": "python",
   "pygments_lexer": "ipython3",
   "version": "3.12.1"
  }
 },
 "nbformat": 4,
 "nbformat_minor": 2
}
